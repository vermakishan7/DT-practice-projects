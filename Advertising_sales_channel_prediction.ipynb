{
 "cells": [
  {
   "cell_type": "markdown",
   "metadata": {},
   "source": [
    "# Advertising Sales Channel Prediction"
   ]
  },
  {
   "cell_type": "markdown",
   "metadata": {},
   "source": [
    "Description:\n",
    "    \n",
    "    When a company enters a market, the distribution strategy and channel it uses are keys to its success in the market, as well as market know-how and customer knowledge and understanding. Because an effective distribution strategy under efficient supply-chain management opens doors for attaining competitive advantage and strong brand equity in the market, it is a component of the marketing mix that cannot be ignored. \n",
    "\n",
    "The distribution strategy and the channel design have to be right the first time. The case study of Sales channel includes the detailed study of TV, radio and newspaper channel. The company has to select proper sales channel to predict the right sales channel to generate good revenue. "
   ]
  },
  {
   "cell_type": "code",
   "execution_count": 67,
   "metadata": {},
   "outputs": [],
   "source": [
    "import pandas as pd\n",
    "import numpy as np\n",
    "import matplotlib.pyplot as plt\n",
    "import seaborn as sns\n",
    "import warnings\n",
    "warnings.filterwarnings('ignore')"
   ]
  },
  {
   "cell_type": "code",
   "execution_count": 68,
   "metadata": {},
   "outputs": [],
   "source": [
    "#Importing the data\n",
    "df=pd.read_csv('advertising.csv')"
   ]
  },
  {
   "cell_type": "code",
   "execution_count": 69,
   "metadata": {},
   "outputs": [
    {
     "data": {
      "text/html": [
       "<div>\n",
       "<style scoped>\n",
       "    .dataframe tbody tr th:only-of-type {\n",
       "        vertical-align: middle;\n",
       "    }\n",
       "\n",
       "    .dataframe tbody tr th {\n",
       "        vertical-align: top;\n",
       "    }\n",
       "\n",
       "    .dataframe thead th {\n",
       "        text-align: right;\n",
       "    }\n",
       "</style>\n",
       "<table border=\"1\" class=\"dataframe\">\n",
       "  <thead>\n",
       "    <tr style=\"text-align: right;\">\n",
       "      <th></th>\n",
       "      <th>Unnamed: 0</th>\n",
       "      <th>TV</th>\n",
       "      <th>radio</th>\n",
       "      <th>newspaper</th>\n",
       "      <th>sales</th>\n",
       "    </tr>\n",
       "  </thead>\n",
       "  <tbody>\n",
       "    <tr>\n",
       "      <th>0</th>\n",
       "      <td>1</td>\n",
       "      <td>230.1</td>\n",
       "      <td>37.8</td>\n",
       "      <td>69.2</td>\n",
       "      <td>22.1</td>\n",
       "    </tr>\n",
       "    <tr>\n",
       "      <th>1</th>\n",
       "      <td>2</td>\n",
       "      <td>44.5</td>\n",
       "      <td>39.3</td>\n",
       "      <td>45.1</td>\n",
       "      <td>10.4</td>\n",
       "    </tr>\n",
       "    <tr>\n",
       "      <th>2</th>\n",
       "      <td>3</td>\n",
       "      <td>17.2</td>\n",
       "      <td>45.9</td>\n",
       "      <td>69.3</td>\n",
       "      <td>9.3</td>\n",
       "    </tr>\n",
       "    <tr>\n",
       "      <th>3</th>\n",
       "      <td>4</td>\n",
       "      <td>151.5</td>\n",
       "      <td>41.3</td>\n",
       "      <td>58.5</td>\n",
       "      <td>18.5</td>\n",
       "    </tr>\n",
       "    <tr>\n",
       "      <th>4</th>\n",
       "      <td>5</td>\n",
       "      <td>180.8</td>\n",
       "      <td>10.8</td>\n",
       "      <td>58.4</td>\n",
       "      <td>12.9</td>\n",
       "    </tr>\n",
       "    <tr>\n",
       "      <th>5</th>\n",
       "      <td>6</td>\n",
       "      <td>8.7</td>\n",
       "      <td>48.9</td>\n",
       "      <td>75.0</td>\n",
       "      <td>7.2</td>\n",
       "    </tr>\n",
       "    <tr>\n",
       "      <th>6</th>\n",
       "      <td>7</td>\n",
       "      <td>57.5</td>\n",
       "      <td>32.8</td>\n",
       "      <td>23.5</td>\n",
       "      <td>11.8</td>\n",
       "    </tr>\n",
       "    <tr>\n",
       "      <th>7</th>\n",
       "      <td>8</td>\n",
       "      <td>120.2</td>\n",
       "      <td>19.6</td>\n",
       "      <td>11.6</td>\n",
       "      <td>13.2</td>\n",
       "    </tr>\n",
       "    <tr>\n",
       "      <th>8</th>\n",
       "      <td>9</td>\n",
       "      <td>8.6</td>\n",
       "      <td>2.1</td>\n",
       "      <td>1.0</td>\n",
       "      <td>4.8</td>\n",
       "    </tr>\n",
       "    <tr>\n",
       "      <th>9</th>\n",
       "      <td>10</td>\n",
       "      <td>199.8</td>\n",
       "      <td>2.6</td>\n",
       "      <td>21.2</td>\n",
       "      <td>10.6</td>\n",
       "    </tr>\n",
       "  </tbody>\n",
       "</table>\n",
       "</div>"
      ],
      "text/plain": [
       "   Unnamed: 0     TV  radio  newspaper  sales\n",
       "0           1  230.1   37.8       69.2   22.1\n",
       "1           2   44.5   39.3       45.1   10.4\n",
       "2           3   17.2   45.9       69.3    9.3\n",
       "3           4  151.5   41.3       58.5   18.5\n",
       "4           5  180.8   10.8       58.4   12.9\n",
       "5           6    8.7   48.9       75.0    7.2\n",
       "6           7   57.5   32.8       23.5   11.8\n",
       "7           8  120.2   19.6       11.6   13.2\n",
       "8           9    8.6    2.1        1.0    4.8\n",
       "9          10  199.8    2.6       21.2   10.6"
      ]
     },
     "execution_count": 69,
     "metadata": {},
     "output_type": "execute_result"
    }
   ],
   "source": [
    "df.head(10)"
   ]
  },
  {
   "cell_type": "code",
   "execution_count": 70,
   "metadata": {},
   "outputs": [],
   "source": [
    "#removing the first column as it contains serial no. only.\n",
    "df.drop(df.columns[0],inplace=True,axis=1)"
   ]
  },
  {
   "cell_type": "code",
   "execution_count": 71,
   "metadata": {},
   "outputs": [
    {
     "data": {
      "text/html": [
       "<div>\n",
       "<style scoped>\n",
       "    .dataframe tbody tr th:only-of-type {\n",
       "        vertical-align: middle;\n",
       "    }\n",
       "\n",
       "    .dataframe tbody tr th {\n",
       "        vertical-align: top;\n",
       "    }\n",
       "\n",
       "    .dataframe thead th {\n",
       "        text-align: right;\n",
       "    }\n",
       "</style>\n",
       "<table border=\"1\" class=\"dataframe\">\n",
       "  <thead>\n",
       "    <tr style=\"text-align: right;\">\n",
       "      <th></th>\n",
       "      <th>TV</th>\n",
       "      <th>radio</th>\n",
       "      <th>newspaper</th>\n",
       "      <th>sales</th>\n",
       "    </tr>\n",
       "  </thead>\n",
       "  <tbody>\n",
       "    <tr>\n",
       "      <th>0</th>\n",
       "      <td>230.1</td>\n",
       "      <td>37.8</td>\n",
       "      <td>69.2</td>\n",
       "      <td>22.1</td>\n",
       "    </tr>\n",
       "    <tr>\n",
       "      <th>1</th>\n",
       "      <td>44.5</td>\n",
       "      <td>39.3</td>\n",
       "      <td>45.1</td>\n",
       "      <td>10.4</td>\n",
       "    </tr>\n",
       "    <tr>\n",
       "      <th>2</th>\n",
       "      <td>17.2</td>\n",
       "      <td>45.9</td>\n",
       "      <td>69.3</td>\n",
       "      <td>9.3</td>\n",
       "    </tr>\n",
       "    <tr>\n",
       "      <th>3</th>\n",
       "      <td>151.5</td>\n",
       "      <td>41.3</td>\n",
       "      <td>58.5</td>\n",
       "      <td>18.5</td>\n",
       "    </tr>\n",
       "    <tr>\n",
       "      <th>4</th>\n",
       "      <td>180.8</td>\n",
       "      <td>10.8</td>\n",
       "      <td>58.4</td>\n",
       "      <td>12.9</td>\n",
       "    </tr>\n",
       "  </tbody>\n",
       "</table>\n",
       "</div>"
      ],
      "text/plain": [
       "      TV  radio  newspaper  sales\n",
       "0  230.1   37.8       69.2   22.1\n",
       "1   44.5   39.3       45.1   10.4\n",
       "2   17.2   45.9       69.3    9.3\n",
       "3  151.5   41.3       58.5   18.5\n",
       "4  180.8   10.8       58.4   12.9"
      ]
     },
     "execution_count": 71,
     "metadata": {},
     "output_type": "execute_result"
    }
   ],
   "source": [
    "df.head()"
   ]
  },
  {
   "cell_type": "markdown",
   "metadata": {},
   "source": [
    "The dataset contains detailed study of TV, radio and newspaper channel. The target is to predict the sales."
   ]
  },
  {
   "cell_type": "code",
   "execution_count": 72,
   "metadata": {},
   "outputs": [
    {
     "data": {
      "text/plain": [
       "TV           float64\n",
       "radio        float64\n",
       "newspaper    float64\n",
       "sales        float64\n",
       "dtype: object"
      ]
     },
     "execution_count": 72,
     "metadata": {},
     "output_type": "execute_result"
    }
   ],
   "source": [
    "#Cheking data type of the columns\n",
    "df.dtypes"
   ]
  },
  {
   "cell_type": "markdown",
   "metadata": {},
   "source": [
    "All the columns are of float type and continuous in nature."
   ]
  },
  {
   "cell_type": "code",
   "execution_count": 73,
   "metadata": {},
   "outputs": [
    {
     "data": {
      "text/plain": [
       "TV           0\n",
       "radio        0\n",
       "newspaper    0\n",
       "sales        0\n",
       "dtype: int64"
      ]
     },
     "execution_count": 73,
     "metadata": {},
     "output_type": "execute_result"
    }
   ],
   "source": [
    "#checking null values\n",
    "df.isnull().sum()"
   ]
  },
  {
   "cell_type": "code",
   "execution_count": 74,
   "metadata": {},
   "outputs": [
    {
     "data": {
      "text/plain": [
       "<matplotlib.axes._subplots.AxesSubplot at 0x2391f8e09a0>"
      ]
     },
     "execution_count": 74,
     "metadata": {},
     "output_type": "execute_result"
    },
    {
     "data": {
      "image/png": "[encoded data removed]",
      "text/plain": [
       "<Figure size 432x288 with 2 Axes>"
      ]
     },
     "metadata": {
      "needs_background": "light"
     },
     "output_type": "display_data"
    }
   ],
   "source": [
    "sns.heatmap(df.isnull())"
   ]
  },
  {
   "cell_type": "markdown",
   "metadata": {},
   "source": [
    "There are no null values in our data."
   ]
  },
  {
   "cell_type": "code",
   "execution_count": 75,
   "metadata": {},
   "outputs": [
    {
     "name": "stdout",
     "output_type": "stream",
     "text": [
      "<class 'pandas.core.frame.DataFrame'>\n",
      "RangeIndex: 200 entries, 0 to 199\n",
      "Data columns (total 4 columns):\n",
      " #   Column     Non-Null Count  Dtype  \n",
      "---  ------     --------------  -----  \n",
      " 0   TV         200 non-null    float64\n",
      " 1   radio      200 non-null    float64\n",
      " 2   newspaper  200 non-null    float64\n",
      " 3   sales      200 non-null    float64\n",
      "dtypes: float64(4)\n",
      "memory usage: 6.4 KB\n"
     ]
    }
   ],
   "source": [
    "df.info()"
   ]
  },
  {
   "cell_type": "markdown",
   "metadata": {},
   "source": [
    "There are total 200 entries(rows) and 4 columns."
   ]
  },
  {
   "cell_type": "markdown",
   "metadata": {},
   "source": [
    "# Data visualization"
   ]
  },
  {
   "cell_type": "code",
   "execution_count": 76,
   "metadata": {},
   "outputs": [
    {
     "data": {
      "image/png": "[encoded data removed]",
      "text/plain": [
       "<Figure size 720x288 with 1 Axes>"
      ]
     },
     "metadata": {
      "needs_background": "light"
     },
     "output_type": "display_data"
    },
    {
     "data": {
      "image/png": "[encoded data removed]",
      "text/plain": [
       "<Figure size 720x288 with 1 Axes>"
      ]
     },
     "metadata": {
      "needs_background": "light"
     },
     "output_type": "display_data"
    },
    {
     "data": {
      "image/png": "[encoded data removed]",
      "text/plain": [
       "<Figure size 720x288 with 1 Axes>"
      ]
     },
     "metadata": {
      "needs_background": "light"
     },
     "output_type": "display_data"
    },
    {
     "data": {
      "image/png": "[encoded data removed]",
      "text/plain": [
       "<Figure size 720x288 with 1 Axes>"
      ]
     },
     "metadata": {
      "needs_background": "light"
     },
     "output_type": "display_data"
    }
   ],
   "source": [
    "#Checking distribution of the data\n",
    "for i in df.columns:\n",
    "    plt.figure(figsize=(10,4))\n",
    "    sns.distplot(df[i],kde=True)\n",
    "    plt.show()"
   ]
  },
  {
   "cell_type": "markdown",
   "metadata": {},
   "source": [
    "TV and radio have uniform distribution.\n",
    "\n",
    "Newspaper is left skewed.\n",
    "\n",
    "Sales or the target variable have normal distribution."
   ]
  },
  {
   "cell_type": "code",
   "execution_count": 77,
   "metadata": {},
   "outputs": [
    {
     "data": {
      "image/png": "[encoded data removed]",
      "text/plain": [
       "<Figure size 540x180 with 3 Axes>"
      ]
     },
     "metadata": {
      "needs_background": "light"
     },
     "output_type": "display_data"
    }
   ],
   "source": [
    "#Lets check the relationship between the independent variables and the dependent variable.\n",
    "sns.pairplot(df,x_vars=['TV','radio','newspaper'],y_vars='sales',kind='scatter')\n",
    "plt.show()"
   ]
  },
  {
   "cell_type": "markdown",
   "metadata": {},
   "source": [
    "TV has strong +ve linear relation with sales.\n",
    "\n",
    "Radio have weak +ve linear relation with sales.\n",
    "\n",
    "Newspaper have very weak relation with sales."
   ]
  },
  {
   "cell_type": "code",
   "execution_count": 78,
   "metadata": {},
   "outputs": [
    {
     "data": {
      "text/html": [
       "<div>\n",
       "<style scoped>\n",
       "    .dataframe tbody tr th:only-of-type {\n",
       "        vertical-align: middle;\n",
       "    }\n",
       "\n",
       "    .dataframe tbody tr th {\n",
       "        vertical-align: top;\n",
       "    }\n",
       "\n",
       "    .dataframe thead th {\n",
       "        text-align: right;\n",
       "    }\n",
       "</style>\n",
       "<table border=\"1\" class=\"dataframe\">\n",
       "  <thead>\n",
       "    <tr style=\"text-align: right;\">\n",
       "      <th></th>\n",
       "      <th>TV</th>\n",
       "      <th>radio</th>\n",
       "      <th>newspaper</th>\n",
       "      <th>sales</th>\n",
       "    </tr>\n",
       "  </thead>\n",
       "  <tbody>\n",
       "    <tr>\n",
       "      <th>count</th>\n",
       "      <td>200.000000</td>\n",
       "      <td>200.000000</td>\n",
       "      <td>200.000000</td>\n",
       "      <td>200.000000</td>\n",
       "    </tr>\n",
       "    <tr>\n",
       "      <th>mean</th>\n",
       "      <td>147.042500</td>\n",
       "      <td>23.264000</td>\n",
       "      <td>30.554000</td>\n",
       "      <td>14.022500</td>\n",
       "    </tr>\n",
       "    <tr>\n",
       "      <th>std</th>\n",
       "      <td>85.854236</td>\n",
       "      <td>14.846809</td>\n",
       "      <td>21.778621</td>\n",
       "      <td>5.217457</td>\n",
       "    </tr>\n",
       "    <tr>\n",
       "      <th>min</th>\n",
       "      <td>0.700000</td>\n",
       "      <td>0.000000</td>\n",
       "      <td>0.300000</td>\n",
       "      <td>1.600000</td>\n",
       "    </tr>\n",
       "    <tr>\n",
       "      <th>25%</th>\n",
       "      <td>74.375000</td>\n",
       "      <td>9.975000</td>\n",
       "      <td>12.750000</td>\n",
       "      <td>10.375000</td>\n",
       "    </tr>\n",
       "    <tr>\n",
       "      <th>50%</th>\n",
       "      <td>149.750000</td>\n",
       "      <td>22.900000</td>\n",
       "      <td>25.750000</td>\n",
       "      <td>12.900000</td>\n",
       "    </tr>\n",
       "    <tr>\n",
       "      <th>75%</th>\n",
       "      <td>218.825000</td>\n",
       "      <td>36.525000</td>\n",
       "      <td>45.100000</td>\n",
       "      <td>17.400000</td>\n",
       "    </tr>\n",
       "    <tr>\n",
       "      <th>max</th>\n",
       "      <td>296.400000</td>\n",
       "      <td>49.600000</td>\n",
       "      <td>114.000000</td>\n",
       "      <td>27.000000</td>\n",
       "    </tr>\n",
       "  </tbody>\n",
       "</table>\n",
       "</div>"
      ],
      "text/plain": [
       "               TV       radio   newspaper       sales\n",
       "count  200.000000  200.000000  200.000000  200.000000\n",
       "mean   147.042500   23.264000   30.554000   14.022500\n",
       "std     85.854236   14.846809   21.778621    5.217457\n",
       "min      0.700000    0.000000    0.300000    1.600000\n",
       "25%     74.375000    9.975000   12.750000   10.375000\n",
       "50%    149.750000   22.900000   25.750000   12.900000\n",
       "75%    218.825000   36.525000   45.100000   17.400000\n",
       "max    296.400000   49.600000  114.000000   27.000000"
      ]
     },
     "execution_count": 78,
     "metadata": {},
     "output_type": "execute_result"
    }
   ],
   "source": [
    "#Describing the data\n",
    "df.describe()"
   ]
  },
  {
   "cell_type": "markdown",
   "metadata": {},
   "source": [
    "There is a lagre difference between 75 percentile and max in newspaper column.\n",
    "\n",
    "Minimum for radio is 0.\n",
    "\n",
    "Minimun sale is 1.6 and maximum sale is 27.\n"
   ]
  },
  {
   "cell_type": "code",
   "execution_count": 79,
   "metadata": {},
   "outputs": [
    {
     "data": {
      "text/html": [
       "<div>\n",
       "<style scoped>\n",
       "    .dataframe tbody tr th:only-of-type {\n",
       "        vertical-align: middle;\n",
       "    }\n",
       "\n",
       "    .dataframe tbody tr th {\n",
       "        vertical-align: top;\n",
       "    }\n",
       "\n",
       "    .dataframe thead th {\n",
       "        text-align: right;\n",
       "    }\n",
       "</style>\n",
       "<table border=\"1\" class=\"dataframe\">\n",
       "  <thead>\n",
       "    <tr style=\"text-align: right;\">\n",
       "      <th></th>\n",
       "      <th>TV</th>\n",
       "      <th>radio</th>\n",
       "      <th>newspaper</th>\n",
       "      <th>sales</th>\n",
       "    </tr>\n",
       "  </thead>\n",
       "  <tbody>\n",
       "    <tr>\n",
       "      <th>TV</th>\n",
       "      <td>1.000000</td>\n",
       "      <td>0.054809</td>\n",
       "      <td>0.056648</td>\n",
       "      <td>0.782224</td>\n",
       "    </tr>\n",
       "    <tr>\n",
       "      <th>radio</th>\n",
       "      <td>0.054809</td>\n",
       "      <td>1.000000</td>\n",
       "      <td>0.354104</td>\n",
       "      <td>0.576223</td>\n",
       "    </tr>\n",
       "    <tr>\n",
       "      <th>newspaper</th>\n",
       "      <td>0.056648</td>\n",
       "      <td>0.354104</td>\n",
       "      <td>1.000000</td>\n",
       "      <td>0.228299</td>\n",
       "    </tr>\n",
       "    <tr>\n",
       "      <th>sales</th>\n",
       "      <td>0.782224</td>\n",
       "      <td>0.576223</td>\n",
       "      <td>0.228299</td>\n",
       "      <td>1.000000</td>\n",
       "    </tr>\n",
       "  </tbody>\n",
       "</table>\n",
       "</div>"
      ],
      "text/plain": [
       "                 TV     radio  newspaper     sales\n",
       "TV         1.000000  0.054809   0.056648  0.782224\n",
       "radio      0.054809  1.000000   0.354104  0.576223\n",
       "newspaper  0.056648  0.354104   1.000000  0.228299\n",
       "sales      0.782224  0.576223   0.228299  1.000000"
      ]
     },
     "execution_count": 79,
     "metadata": {},
     "output_type": "execute_result"
    }
   ],
   "source": [
    "#Checking correlation\n",
    "df.corr()"
   ]
  },
  {
   "cell_type": "code",
   "execution_count": 80,
   "metadata": {},
   "outputs": [
    {
     "data": {
      "text/plain": [
       "<matplotlib.axes._subplots.AxesSubplot at 0x2391fad9af0>"
      ]
     },
     "execution_count": 80,
     "metadata": {},
     "output_type": "execute_result"
    },
    {
     "data": {
      "image/png": "[encoded data removed]",
      "text/plain": [
       "<Figure size 432x288 with 2 Axes>"
      ]
     },
     "metadata": {
      "needs_background": "light"
     },
     "output_type": "display_data"
    }
   ],
   "source": [
    "sns.heatmap(df.corr(),annot=True,fmt='.2f')"
   ]
  },
  {
   "cell_type": "markdown",
   "metadata": {},
   "source": [
    "TV have high +ve correlation with sales.\n",
    "\n",
    "Radio is also positively correlated with sales.\n",
    "\n",
    "Newspaper have least +ve correlation with sales."
   ]
  },
  {
   "cell_type": "code",
   "execution_count": 81,
   "metadata": {},
   "outputs": [
    {
     "data": {
      "image/png": "[encoded data removed]",
      "text/plain": [
       "<Figure size 432x288 with 1 Axes>"
      ]
     },
     "metadata": {
      "needs_background": "light"
     },
     "output_type": "display_data"
    },
    {
     "data": {
      "image/png": "[encoded data removed]",
      "text/plain": [
       "<Figure size 432x288 with 1 Axes>"
      ]
     },
     "metadata": {
      "needs_background": "light"
     },
     "output_type": "display_data"
    },
    {
     "data": {
      "image/png": "[encoded data removed]",
      "text/plain": [
       "<Figure size 432x288 with 1 Axes>"
      ]
     },
     "metadata": {
      "needs_background": "light"
     },
     "output_type": "display_data"
    },
    {
     "data": {
      "image/png": "[encoded data removed]",
      "text/plain": [
       "<Figure size 432x288 with 1 Axes>"
      ]
     },
     "metadata": {
      "needs_background": "light"
     },
     "output_type": "display_data"
    }
   ],
   "source": [
    "#Checking outliers\n",
    "for i in df.columns:\n",
    "    sns.boxplot(df[i],orient='v')\n",
    "    plt.show()"
   ]
  },
  {
   "cell_type": "markdown",
   "metadata": {},
   "source": [
    "Only newspaper have outliers which are close to the maximum therefore we will keep them."
   ]
  },
  {
   "cell_type": "code",
   "execution_count": 82,
   "metadata": {},
   "outputs": [
    {
     "data": {
      "text/plain": [
       "TV          -0.069853\n",
       "radio        0.094175\n",
       "newspaper    0.894720\n",
       "sales        0.407571\n",
       "dtype: float64"
      ]
     },
     "execution_count": 82,
     "metadata": {},
     "output_type": "execute_result"
    }
   ],
   "source": [
    "#Checking the skewness \n",
    "df.skew()"
   ]
  },
  {
   "cell_type": "markdown",
   "metadata": {},
   "source": [
    "Keeping +/- 0.5 as the range for skewness, newspaper is the only column which have skewness."
   ]
  },
  {
   "cell_type": "code",
   "execution_count": 83,
   "metadata": {},
   "outputs": [],
   "source": [
    "#Removing skewness from newspaper column\n",
    "#df['newspaper']=np.cbrt(df['newspaper'])"
   ]
  },
  {
   "cell_type": "code",
   "execution_count": 84,
   "metadata": {},
   "outputs": [],
   "source": [
    "x=df.iloc[:,:-1]"
   ]
  },
  {
   "cell_type": "code",
   "execution_count": 89,
   "metadata": {},
   "outputs": [],
   "source": [
    "y=df.iloc[:,-1]"
   ]
  },
  {
   "cell_type": "code",
   "execution_count": 85,
   "metadata": {},
   "outputs": [
    {
     "data": {
      "text/plain": [
       "TV          -0.069853\n",
       "radio        0.094175\n",
       "newspaper    0.894720\n",
       "dtype: float64"
      ]
     },
     "execution_count": 85,
     "metadata": {},
     "output_type": "execute_result"
    }
   ],
   "source": [
    "x.skew()"
   ]
  },
  {
   "cell_type": "code",
   "execution_count": 86,
   "metadata": {},
   "outputs": [],
   "source": [
    "#Applying cube root method to remove skewness\n",
    "x['newspaper']=np.cbrt(x['newspaper'])"
   ]
  },
  {
   "cell_type": "code",
   "execution_count": 87,
   "metadata": {},
   "outputs": [
    {
     "data": {
      "text/plain": [
       "TV          -0.069853\n",
       "radio        0.094175\n",
       "newspaper   -0.265522\n",
       "dtype: float64"
      ]
     },
     "execution_count": 87,
     "metadata": {},
     "output_type": "execute_result"
    }
   ],
   "source": [
    "x.skew()"
   ]
  },
  {
   "cell_type": "markdown",
   "metadata": {},
   "source": [
    "Now our data is within the range of skewness."
   ]
  },
  {
   "cell_type": "code",
   "execution_count": 90,
   "metadata": {},
   "outputs": [
    {
     "data": {
      "text/html": [
       "<div>\n",
       "<style scoped>\n",
       "    .dataframe tbody tr th:only-of-type {\n",
       "        vertical-align: middle;\n",
       "    }\n",
       "\n",
       "    .dataframe tbody tr th {\n",
       "        vertical-align: top;\n",
       "    }\n",
       "\n",
       "    .dataframe thead th {\n",
       "        text-align: right;\n",
       "    }\n",
       "</style>\n",
       "<table border=\"1\" class=\"dataframe\">\n",
       "  <thead>\n",
       "    <tr style=\"text-align: right;\">\n",
       "      <th></th>\n",
       "      <th>TV</th>\n",
       "      <th>radio</th>\n",
       "      <th>newspaper</th>\n",
       "    </tr>\n",
       "  </thead>\n",
       "  <tbody>\n",
       "    <tr>\n",
       "      <th>count</th>\n",
       "      <td>200.000000</td>\n",
       "      <td>200.000000</td>\n",
       "      <td>200.000000</td>\n",
       "    </tr>\n",
       "    <tr>\n",
       "      <th>mean</th>\n",
       "      <td>147.042500</td>\n",
       "      <td>23.264000</td>\n",
       "      <td>2.920515</td>\n",
       "    </tr>\n",
       "    <tr>\n",
       "      <th>std</th>\n",
       "      <td>85.854236</td>\n",
       "      <td>14.846809</td>\n",
       "      <td>0.814620</td>\n",
       "    </tr>\n",
       "    <tr>\n",
       "      <th>min</th>\n",
       "      <td>0.700000</td>\n",
       "      <td>0.000000</td>\n",
       "      <td>0.669433</td>\n",
       "    </tr>\n",
       "    <tr>\n",
       "      <th>25%</th>\n",
       "      <td>74.375000</td>\n",
       "      <td>9.975000</td>\n",
       "      <td>2.336152</td>\n",
       "    </tr>\n",
       "    <tr>\n",
       "      <th>50%</th>\n",
       "      <td>149.750000</td>\n",
       "      <td>22.900000</td>\n",
       "      <td>2.952959</td>\n",
       "    </tr>\n",
       "    <tr>\n",
       "      <th>75%</th>\n",
       "      <td>218.825000</td>\n",
       "      <td>36.525000</td>\n",
       "      <td>3.559526</td>\n",
       "    </tr>\n",
       "    <tr>\n",
       "      <th>max</th>\n",
       "      <td>296.400000</td>\n",
       "      <td>49.600000</td>\n",
       "      <td>4.848808</td>\n",
       "    </tr>\n",
       "  </tbody>\n",
       "</table>\n",
       "</div>"
      ],
      "text/plain": [
       "               TV       radio   newspaper\n",
       "count  200.000000  200.000000  200.000000\n",
       "mean   147.042500   23.264000    2.920515\n",
       "std     85.854236   14.846809    0.814620\n",
       "min      0.700000    0.000000    0.669433\n",
       "25%     74.375000    9.975000    2.336152\n",
       "50%    149.750000   22.900000    2.952959\n",
       "75%    218.825000   36.525000    3.559526\n",
       "max    296.400000   49.600000    4.848808"
      ]
     },
     "execution_count": 90,
     "metadata": {},
     "output_type": "execute_result"
    }
   ],
   "source": [
    "x.describe()"
   ]
  },
  {
   "cell_type": "code",
   "execution_count": 92,
   "metadata": {},
   "outputs": [],
   "source": [
    "#Scaling data using standard scaler\n",
    "from sklearn.preprocessing import StandardScaler"
   ]
  },
  {
   "cell_type": "code",
   "execution_count": 94,
   "metadata": {},
   "outputs": [],
   "source": [
    "sc=StandardScaler()\n",
    "x=sc.fit_transform(x)"
   ]
  },
  {
   "cell_type": "code",
   "execution_count": 96,
   "metadata": {},
   "outputs": [],
   "source": [
    "x=pd.DataFrame(x,columns=['TV','radio','newspaper'])"
   ]
  },
  {
   "cell_type": "code",
   "execution_count": 97,
   "metadata": {},
   "outputs": [
    {
     "data": {
      "text/html": [
       "<div>\n",
       "<style scoped>\n",
       "    .dataframe tbody tr th:only-of-type {\n",
       "        vertical-align: middle;\n",
       "    }\n",
       "\n",
       "    .dataframe tbody tr th {\n",
       "        vertical-align: top;\n",
       "    }\n",
       "\n",
       "    .dataframe thead th {\n",
       "        text-align: right;\n",
       "    }\n",
       "</style>\n",
       "<table border=\"1\" class=\"dataframe\">\n",
       "  <thead>\n",
       "    <tr style=\"text-align: right;\">\n",
       "      <th></th>\n",
       "      <th>TV</th>\n",
       "      <th>radio</th>\n",
       "      <th>newspaper</th>\n",
       "    </tr>\n",
       "  </thead>\n",
       "  <tbody>\n",
       "    <tr>\n",
       "      <th>0</th>\n",
       "      <td>0.969852</td>\n",
       "      <td>0.981522</td>\n",
       "      <td>1.458330</td>\n",
       "    </tr>\n",
       "    <tr>\n",
       "      <th>1</th>\n",
       "      <td>-1.197376</td>\n",
       "      <td>1.082808</td>\n",
       "      <td>0.786398</td>\n",
       "    </tr>\n",
       "    <tr>\n",
       "      <th>2</th>\n",
       "      <td>-1.516155</td>\n",
       "      <td>1.528463</td>\n",
       "      <td>1.460762</td>\n",
       "    </tr>\n",
       "    <tr>\n",
       "      <th>3</th>\n",
       "      <td>0.052050</td>\n",
       "      <td>1.217855</td>\n",
       "      <td>1.183210</td>\n",
       "    </tr>\n",
       "    <tr>\n",
       "      <th>4</th>\n",
       "      <td>0.394182</td>\n",
       "      <td>-0.841614</td>\n",
       "      <td>1.180486</td>\n",
       "    </tr>\n",
       "  </tbody>\n",
       "</table>\n",
       "</div>"
      ],
      "text/plain": [
       "         TV     radio  newspaper\n",
       "0  0.969852  0.981522   1.458330\n",
       "1 -1.197376  1.082808   0.786398\n",
       "2 -1.516155  1.528463   1.460762\n",
       "3  0.052050  1.217855   1.183210\n",
       "4  0.394182 -0.841614   1.180486"
      ]
     },
     "execution_count": 97,
     "metadata": {},
     "output_type": "execute_result"
    }
   ],
   "source": [
    "x.head()"
   ]
  },
  {
   "cell_type": "code",
   "execution_count": 98,
   "metadata": {},
   "outputs": [
    {
     "data": {
      "text/plain": [
       "((200, 3), (200,))"
      ]
     },
     "execution_count": 98,
     "metadata": {},
     "output_type": "execute_result"
    }
   ],
   "source": [
    "x.shape,y.shape"
   ]
  },
  {
   "cell_type": "markdown",
   "metadata": {},
   "source": [
    "# Finding the best random state"
   ]
  },
  {
   "cell_type": "code",
   "execution_count": 111,
   "metadata": {},
   "outputs": [],
   "source": [
    "from sklearn.linear_model import LinearRegression,Lasso,Ridge\n",
    "from sklearn.metrics import r2_score\n",
    "from sklearn.model_selection import train_test_split\n",
    "from sklearn.metrics import r2_score, mean_absolute_error, mean_squared_error\n",
    "lr=LinearRegression()\n",
    "ls=Lasso()\n",
    "rd=Ridge()\n",
    "en=ElasticNet()"
   ]
  },
  {
   "cell_type": "code",
   "execution_count": 105,
   "metadata": {},
   "outputs": [
    {
     "name": "stdout",
     "output_type": "stream",
     "text": [
      "At random state 0 Training accuracy is: 0.9066631145953776\n",
      "At random state 0 Testing accuracy is: 0.8597494331444464\n",
      "\n",
      "\n",
      "At random state 1 Training accuracy is: 0.8961289696475798\n",
      "At random state 1 Testing accuracy is: 0.8916937124455175\n",
      "\n",
      "\n",
      "At random state 2 Training accuracy is: 0.9156657036294288\n",
      "At random state 2 Testing accuracy is: 0.7535114569076664\n",
      "\n",
      "\n",
      "At random state 3 Training accuracy is: 0.8933259581677785\n",
      "At random state 3 Testing accuracy is: 0.911945178693512\n",
      "\n",
      "\n",
      "At random state 4 Training accuracy is: 0.8912406887203768\n",
      "At random state 4 Testing accuracy is: 0.9082911754058118\n",
      "\n",
      "\n",
      "At random state 5 Training accuracy is: 0.895657745419981\n",
      "At random state 5 Testing accuracy is: 0.8986236522279739\n",
      "\n",
      "\n",
      "At random state 6 Training accuracy is: 0.8918472940079688\n",
      "At random state 6 Testing accuracy is: 0.920541030646887\n",
      "\n",
      "\n",
      "At random state 7 Training accuracy is: 0.8929302060865691\n",
      "At random state 7 Testing accuracy is: 0.9095038453273251\n",
      "\n",
      "\n",
      "At random state 8 Training accuracy is: 0.908603669784601\n",
      "At random state 8 Testing accuracy is: 0.8472009705222298\n",
      "\n",
      "\n",
      "At random state 9 Training accuracy is: 0.8897392912585358\n",
      "At random state 9 Testing accuracy is: 0.925920496582659\n",
      "\n",
      "\n",
      "At random state 10 Training accuracy is: 0.9209062179632606\n",
      "At random state 10 Testing accuracy is: 0.8348780155328149\n",
      "\n",
      "\n",
      "At random state 11 Training accuracy is: 0.9106773325536331\n",
      "At random state 11 Testing accuracy is: 0.8467211042388121\n",
      "\n",
      "\n",
      "At random state 12 Training accuracy is: 0.891193117121315\n",
      "At random state 12 Testing accuracy is: 0.9138507693231627\n",
      "\n",
      "\n",
      "At random state 13 Training accuracy is: 0.8868380975691987\n",
      "At random state 13 Testing accuracy is: 0.9310371338668945\n",
      "\n",
      "\n",
      "At random state 14 Training accuracy is: 0.9086251614425691\n",
      "At random state 14 Testing accuracy is: 0.8549428756823855\n",
      "\n",
      "\n",
      "At random state 15 Training accuracy is: 0.8937470938475928\n",
      "At random state 15 Testing accuracy is: 0.9059699863782849\n",
      "\n",
      "\n",
      "At random state 16 Training accuracy is: 0.8925772733196646\n",
      "At random state 16 Testing accuracy is: 0.9189446371007007\n",
      "\n",
      "\n",
      "At random state 17 Training accuracy is: 0.9116026362976534\n",
      "At random state 17 Testing accuracy is: 0.8264463446101994\n",
      "\n",
      "\n",
      "At random state 18 Training accuracy is: 0.9055312103631487\n",
      "At random state 18 Testing accuracy is: 0.8699702221803258\n",
      "\n",
      "\n",
      "At random state 19 Training accuracy is: 0.893481896866724\n",
      "At random state 19 Testing accuracy is: 0.9036372494528858\n",
      "\n",
      "\n",
      "At random state 20 Training accuracy is: 0.8941754453165404\n",
      "At random state 20 Testing accuracy is: 0.9025287107710458\n",
      "\n",
      "\n",
      "At random state 21 Training accuracy is: 0.8875858319205765\n",
      "At random state 21 Testing accuracy is: 0.9221992779339878\n",
      "\n",
      "\n",
      "At random state 22 Training accuracy is: 0.8901705697065985\n",
      "At random state 22 Testing accuracy is: 0.9176319623902442\n",
      "\n",
      "\n",
      "At random state 23 Training accuracy is: 0.8921950376559438\n",
      "At random state 23 Testing accuracy is: 0.9102011712087124\n",
      "\n",
      "\n",
      "At random state 24 Training accuracy is: 0.8942571531312882\n",
      "At random state 24 Testing accuracy is: 0.9066776359592618\n",
      "\n",
      "\n",
      "At random state 25 Training accuracy is: 0.9004497506745481\n",
      "At random state 25 Testing accuracy is: 0.8757698454196968\n",
      "\n",
      "\n",
      "At random state 26 Training accuracy is: 0.8999194330805244\n",
      "At random state 26 Testing accuracy is: 0.8753238576097013\n",
      "\n",
      "\n",
      "At random state 27 Training accuracy is: 0.8949667992158699\n",
      "At random state 27 Testing accuracy is: 0.9055776730001123\n",
      "\n",
      "\n",
      "At random state 28 Training accuracy is: 0.9000769502757092\n",
      "At random state 28 Testing accuracy is: 0.8818314759432162\n",
      "\n",
      "\n",
      "At random state 29 Training accuracy is: 0.8901573947225507\n",
      "At random state 29 Testing accuracy is: 0.9104098621696622\n",
      "\n",
      "\n",
      "At random state 30 Training accuracy is: 0.8939708732211649\n",
      "At random state 30 Testing accuracy is: 0.904043372022137\n",
      "\n",
      "\n",
      "At random state 31 Training accuracy is: 0.8862264435461248\n",
      "At random state 31 Testing accuracy is: 0.9267400050510258\n",
      "\n",
      "\n",
      "At random state 32 Training accuracy is: 0.9171738427537557\n",
      "At random state 32 Testing accuracy is: 0.7772604673774025\n",
      "\n",
      "\n",
      "At random state 33 Training accuracy is: 0.8964619634566922\n",
      "At random state 33 Testing accuracy is: 0.8928455830687817\n",
      "\n",
      "\n",
      "At random state 34 Training accuracy is: 0.8970326624227806\n",
      "At random state 34 Testing accuracy is: 0.8925682936370286\n",
      "\n",
      "\n",
      "At random state 35 Training accuracy is: 0.9143306158090654\n",
      "At random state 35 Testing accuracy is: 0.7909394707635534\n",
      "\n",
      "\n",
      "At random state 36 Training accuracy is: 0.8889961255951765\n",
      "At random state 36 Testing accuracy is: 0.9254188391795208\n",
      "\n",
      "\n",
      "At random state 37 Training accuracy is: 0.8996015670675819\n",
      "At random state 37 Testing accuracy is: 0.8839485207938428\n",
      "\n",
      "\n",
      "At random state 38 Training accuracy is: 0.8971807596969315\n",
      "At random state 38 Testing accuracy is: 0.8929762152718619\n",
      "\n",
      "\n",
      "At random state 39 Training accuracy is: 0.8991179908780755\n",
      "At random state 39 Testing accuracy is: 0.8793255369538804\n",
      "\n",
      "\n",
      "At random state 40 Training accuracy is: 0.9200554033064559\n",
      "At random state 40 Testing accuracy is: 0.797134622065246\n",
      "\n",
      "\n",
      "At random state 41 Training accuracy is: 0.9005159256186348\n",
      "At random state 41 Testing accuracy is: 0.882559004814555\n",
      "\n",
      "\n",
      "At random state 42 Training accuracy is: 0.8958305962737972\n",
      "At random state 42 Testing accuracy is: 0.8995129418496182\n",
      "\n",
      "\n",
      "At random state 43 Training accuracy is: 0.8885807814323607\n",
      "At random state 43 Testing accuracy is: 0.9281241478030514\n",
      "\n",
      "\n",
      "At random state 44 Training accuracy is: 0.9065832959928766\n",
      "At random state 44 Testing accuracy is: 0.8311156936943701\n",
      "\n",
      "\n",
      "At random state 45 Training accuracy is: 0.89581436069956\n",
      "At random state 45 Testing accuracy is: 0.895129731927936\n",
      "\n",
      "\n",
      "At random state 46 Training accuracy is: 0.9036925123085818\n",
      "At random state 46 Testing accuracy is: 0.8502607498615183\n",
      "\n",
      "\n",
      "At random state 47 Training accuracy is: 0.8986284572314489\n",
      "At random state 47 Testing accuracy is: 0.8860771142400996\n",
      "\n",
      "\n",
      "At random state 48 Training accuracy is: 0.890360933217393\n",
      "At random state 48 Testing accuracy is: 0.9197324656541563\n",
      "\n",
      "\n",
      "At random state 49 Training accuracy is: 0.9136047582614404\n",
      "At random state 49 Testing accuracy is: 0.8246208922336986\n",
      "\n",
      "\n",
      "At random state 50 Training accuracy is: 0.9015505533810313\n",
      "At random state 50 Testing accuracy is: 0.8468272483849018\n",
      "\n",
      "\n",
      "At random state 51 Training accuracy is: 0.8938118097164643\n",
      "At random state 51 Testing accuracy is: 0.9058904119853436\n",
      "\n",
      "\n",
      "At random state 52 Training accuracy is: 0.9016249306328945\n",
      "At random state 52 Testing accuracy is: 0.8812985078776093\n",
      "\n",
      "\n",
      "At random state 53 Training accuracy is: 0.8886912391840082\n",
      "At random state 53 Testing accuracy is: 0.9256322382861112\n",
      "\n",
      "\n",
      "At random state 54 Training accuracy is: 0.8918556626561448\n",
      "At random state 54 Testing accuracy is: 0.9181373132593621\n",
      "\n",
      "\n",
      "At random state 55 Training accuracy is: 0.8943610024473939\n",
      "At random state 55 Testing accuracy is: 0.9033020255685842\n",
      "\n",
      "\n",
      "At random state 56 Training accuracy is: 0.8987214788214781\n",
      "At random state 56 Testing accuracy is: 0.8893260902810692\n",
      "\n",
      "\n",
      "At random state 57 Training accuracy is: 0.8824151737502989\n",
      "At random state 57 Testing accuracy is: 0.9410733424267995\n",
      "\n",
      "\n",
      "At random state 58 Training accuracy is: 0.9127391328549523\n",
      "At random state 58 Testing accuracy is: 0.8406190267204264\n",
      "\n",
      "\n",
      "At random state 59 Training accuracy is: 0.8893109327891142\n",
      "At random state 59 Testing accuracy is: 0.9251235441553576\n",
      "\n",
      "\n",
      "At random state 60 Training accuracy is: 0.8920898026070287\n",
      "At random state 60 Testing accuracy is: 0.9104064527302161\n",
      "\n",
      "\n",
      "At random state 61 Training accuracy is: 0.8994240978795405\n",
      "At random state 61 Testing accuracy is: 0.8795296515223178\n",
      "\n",
      "\n",
      "At random state 62 Training accuracy is: 0.9119338045072645\n",
      "At random state 62 Testing accuracy is: 0.8418536997429634\n",
      "\n",
      "\n",
      "At random state 63 Training accuracy is: 0.8949628394837279\n",
      "At random state 63 Testing accuracy is: 0.9029830565858753\n",
      "\n",
      "\n",
      "At random state 64 Training accuracy is: 0.8978447260937825\n",
      "At random state 64 Testing accuracy is: 0.8813874136611397\n",
      "\n",
      "\n",
      "At random state 65 Training accuracy is: 0.8970057752736015\n",
      "At random state 65 Testing accuracy is: 0.8939867709680435\n",
      "\n",
      "\n",
      "At random state 66 Training accuracy is: 0.8985543811927954\n",
      "At random state 66 Testing accuracy is: 0.8898691410822231\n",
      "\n",
      "\n",
      "At random state 67 Training accuracy is: 0.8996070985512543\n",
      "At random state 67 Testing accuracy is: 0.881645927636398\n",
      "\n",
      "\n",
      "At random state 68 Training accuracy is: 0.8999551326751878\n",
      "At random state 68 Testing accuracy is: 0.8701588318500246\n",
      "\n",
      "\n",
      "At random state 69 Training accuracy is: 0.8872944238155506\n",
      "At random state 69 Testing accuracy is: 0.9223218065816914\n",
      "\n",
      "\n",
      "At random state 70 Training accuracy is: 0.8860926055425926\n",
      "At random state 70 Testing accuracy is: 0.9261274951850329\n",
      "\n",
      "\n",
      "At random state 71 Training accuracy is: 0.916252831532488\n",
      "At random state 71 Testing accuracy is: 0.8242457114809949\n",
      "\n",
      "\n",
      "At random state 72 Training accuracy is: 0.8936039717077582\n",
      "At random state 72 Testing accuracy is: 0.9075604982267206\n",
      "\n",
      "\n",
      "At random state 73 Training accuracy is: 0.9078331007843722\n",
      "At random state 73 Testing accuracy is: 0.8411080011274213\n",
      "\n",
      "\n",
      "At random state 74 Training accuracy is: 0.8979228801394384\n",
      "At random state 74 Testing accuracy is: 0.8808107091597435\n",
      "\n",
      "\n",
      "At random state 75 Training accuracy is: 0.8942145151163863\n",
      "At random state 75 Testing accuracy is: 0.9077027350962215\n",
      "\n",
      "\n",
      "At random state 76 Training accuracy is: 0.9095525223454395\n",
      "At random state 76 Testing accuracy is: 0.7495509169198846\n",
      "\n",
      "\n",
      "At random state 77 Training accuracy is: 0.8860698906983373\n",
      "At random state 77 Testing accuracy is: 0.9374009217080135\n",
      "\n",
      "\n",
      "At random state 78 Training accuracy is: 0.8957261810579571\n",
      "At random state 78 Testing accuracy is: 0.9023353929907814\n",
      "\n",
      "\n",
      "At random state 79 Training accuracy is: 0.8918067609152245\n",
      "At random state 79 Testing accuracy is: 0.9042163946554435\n",
      "\n",
      "\n",
      "At random state 80 Training accuracy is: 0.9161858904790716\n",
      "At random state 80 Testing accuracy is: 0.806904165929871\n",
      "\n",
      "\n",
      "At random state 81 Training accuracy is: 0.9033509777914306\n",
      "At random state 81 Testing accuracy is: 0.8618651180012983\n",
      "\n",
      "\n",
      "At random state 82 Training accuracy is: 0.9151246643482005\n",
      "At random state 82 Testing accuracy is: 0.8025677908964803\n",
      "\n",
      "\n",
      "At random state 83 Training accuracy is: 0.8838302154833527\n",
      "At random state 83 Testing accuracy is: 0.9378317664751898\n",
      "\n",
      "\n",
      "At random state 84 Training accuracy is: 0.8948672768940203\n",
      "At random state 84 Testing accuracy is: 0.9021990837329351\n",
      "\n",
      "\n",
      "At random state 85 Training accuracy is: 0.9084016013333142\n",
      "At random state 85 Testing accuracy is: 0.8448289646172549\n",
      "\n",
      "\n",
      "At random state 86 Training accuracy is: 0.8940596472180047\n",
      "At random state 86 Testing accuracy is: 0.9106118688639786\n",
      "\n",
      "\n",
      "At random state 87 Training accuracy is: 0.9116882122101747\n",
      "At random state 87 Testing accuracy is: 0.7644464027705974\n",
      "\n",
      "\n",
      "At random state 88 Training accuracy is: 0.9093369908029637\n",
      "At random state 88 Testing accuracy is: 0.8396984549729944\n",
      "\n",
      "\n",
      "At random state 89 Training accuracy is: 0.9003020615664996\n",
      "At random state 89 Testing accuracy is: 0.8752301478940109\n",
      "\n",
      "\n",
      "At random state 90 Training accuracy is: 0.9031769241243149\n",
      "At random state 90 Testing accuracy is: 0.8512243695170864\n",
      "\n",
      "\n",
      "At random state 91 Training accuracy is: 0.8874044700830799\n",
      "At random state 91 Testing accuracy is: 0.9043282578799963\n",
      "\n",
      "\n",
      "At random state 92 Training accuracy is: 0.8793534933627533\n",
      "At random state 92 Testing accuracy is: 0.9512798330625822\n",
      "\n",
      "\n",
      "At random state 93 Training accuracy is: 0.8927860919681145\n",
      "At random state 93 Testing accuracy is: 0.9124482393255433\n",
      "\n",
      "\n",
      "At random state 94 Training accuracy is: 0.9081453788998566\n",
      "At random state 94 Testing accuracy is: 0.85717626176705\n",
      "\n",
      "\n",
      "At random state 95 Training accuracy is: 0.8937643241703922\n",
      "At random state 95 Testing accuracy is: 0.8937725897882681\n",
      "\n",
      "\n",
      "At random state 96 Training accuracy is: 0.9036265437101214\n",
      "At random state 96 Testing accuracy is: 0.859935265498993\n",
      "\n",
      "\n",
      "At random state 97 Training accuracy is: 0.8905604375510827\n",
      "At random state 97 Testing accuracy is: 0.9106517271483665\n",
      "\n",
      "\n",
      "At random state 98 Training accuracy is: 0.8819454169920808\n",
      "At random state 98 Testing accuracy is: 0.9400155695172346\n",
      "\n",
      "\n",
      "At random state 99 Training accuracy is: 0.890901082628623\n",
      "At random state 99 Testing accuracy is: 0.918423490461176\n",
      "\n",
      "\n"
     ]
    }
   ],
   "source": [
    "for i in range(0,100):\n",
    "    x_train,x_test,y_train,y_test=train_test_split(x,y,test_size=.20,random_state=i)\n",
    "    lr.fit(x_train,y_train)\n",
    "    pred_train=lr.predict(x_train)\n",
    "    pred_test=lr.predict(x_test)\n",
    "    print('At random state',i,'Training accuracy is:', r2_score(y_train,pred_train))\n",
    "    print('At random state',i,'Testing accuracy is:',r2_score(y_test,pred_test))\n",
    "    print('\\n')"
   ]
  },
  {
   "cell_type": "markdown",
   "metadata": {},
   "source": [
    "At random state 45 we are getting the best result. Therefore we will split our train and test data at random state 45."
   ]
  },
  {
   "cell_type": "code",
   "execution_count": 106,
   "metadata": {},
   "outputs": [],
   "source": [
    "x_train,x_test,y_train,y_test=train_test_split(x,y,test_size=.20,random_state=45)"
   ]
  },
  {
   "cell_type": "code",
   "execution_count": 107,
   "metadata": {},
   "outputs": [
    {
     "data": {
      "text/plain": [
       "((160, 3), (40, 3), (160,), (40,))"
      ]
     },
     "execution_count": 107,
     "metadata": {},
     "output_type": "execute_result"
    }
   ],
   "source": [
    "x_train.shape,x_test.shape,y_train.shape,y_test.shape"
   ]
  },
  {
   "cell_type": "code",
   "execution_count": 112,
   "metadata": {},
   "outputs": [
    {
     "name": "stdout",
     "output_type": "stream",
     "text": [
      "Training accuracy is: 0.89581436069956\n",
      "Testing accuracy is: 0.895129731927936\n",
      "mean absolute error: 1.0851144962312467\n",
      "Root mean squared error: 1.5054577851936717\n"
     ]
    }
   ],
   "source": [
    "lr.fit(x_train,y_train)\n",
    "pred_train=lr.predict(x_train)\n",
    "pred_test=lr.predict(x_test)\n",
    "print('Training accuracy is:', r2_score(y_train,pred_train))\n",
    "print('Testing accuracy is:',r2_score(y_test,pred_test))\n",
    "print('mean absolute error:',mean_absolute_error(y_test,pred_test))\n",
    "print('Root mean squared error:', np.sqrt(mean_squared_error(y_test,pred_test)))"
   ]
  },
  {
   "cell_type": "markdown",
   "metadata": {},
   "source": [
    "Cross validation of the model:"
   ]
  },
  {
   "cell_type": "code",
   "execution_count": 117,
   "metadata": {},
   "outputs": [
    {
     "name": "stdout",
     "output_type": "stream",
     "text": [
      "At cross fold 2 the cv score is 0.8920092031994491 and accuracy score for training is 0.89581436069956 and accuracy score for testing is 0.895129731927936\n",
      "\n",
      "\n",
      "At cross fold 3 the cv score is 0.8915648402361449 and accuracy score for training is 0.89581436069956 and accuracy score for testing is 0.895129731927936\n",
      "\n",
      "\n",
      "At cross fold 4 the cv score is 0.8905494437145037 and accuracy score for training is 0.89581436069956 and accuracy score for testing is 0.895129731927936\n",
      "\n",
      "\n",
      "At cross fold 5 the cv score is 0.8875169847116584 and accuracy score for training is 0.89581436069956 and accuracy score for testing is 0.895129731927936\n",
      "\n",
      "\n",
      "At cross fold 6 the cv score is 0.8900952170929292 and accuracy score for training is 0.89581436069956 and accuracy score for testing is 0.895129731927936\n",
      "\n",
      "\n",
      "At cross fold 7 the cv score is 0.8862845334678031 and accuracy score for training is 0.89581436069956 and accuracy score for testing is 0.895129731927936\n",
      "\n",
      "\n",
      "At cross fold 8 the cv score is 0.8827383042571338 and accuracy score for training is 0.89581436069956 and accuracy score for testing is 0.895129731927936\n",
      "\n",
      "\n",
      "At cross fold 9 the cv score is 0.8825268834618548 and accuracy score for training is 0.89581436069956 and accuracy score for testing is 0.895129731927936\n",
      "\n",
      "\n"
     ]
    }
   ],
   "source": [
    "from sklearn.model_selection import cross_val_score\n",
    "for i in range(2,10):\n",
    "    cv_score=cross_val_score(lr,x,y,cv=i)\n",
    "    cv_mean=cv_score.mean()\n",
    "    print(f'At cross fold {i} the cv score is {cv_mean} and accuracy score for training is',r2_score(y_train,pred_train),'and accuracy score for testing is',r2_score(y_test,pred_test))\n",
    "    print('\\n')"
   ]
  },
  {
   "cell_type": "markdown",
   "metadata": {},
   "source": [
    "we will selected cv=4.\n",
    "\n",
    "The model is performing good as their is no much difference in training and testing score."
   ]
  },
  {
   "cell_type": "code",
   "execution_count": 118,
   "metadata": {},
   "outputs": [
    {
     "data": {
      "image/png": "[encoded data removed]",
      "text/plain": [
       "<Figure size 576x432 with 1 Axes>"
      ]
     },
     "metadata": {
      "needs_background": "light"
     },
     "output_type": "display_data"
    }
   ],
   "source": [
    "#ploting our model\n",
    "plt.figure(figsize=(8,6))\n",
    "plt.scatter(x=y_test, y=pred_test, color='r')\n",
    "plt.plot(y_test,y_test,color='b')\n",
    "plt.xlabel('Actual sales')\n",
    "plt.ylabel('Predicted sales')\n",
    "plt.title('Linear Regression')\n",
    "plt.show()"
   ]
  },
  {
   "cell_type": "markdown",
   "metadata": {},
   "source": [
    "Best fit line is covering most of the datapoints which shows a good fit."
   ]
  },
  {
   "cell_type": "markdown",
   "metadata": {},
   "source": [
    "Regularization:"
   ]
  },
  {
   "cell_type": "code",
   "execution_count": 120,
   "metadata": {},
   "outputs": [
    {
     "name": "stdout",
     "output_type": "stream",
     "text": [
      "{'alpha': 0.01, 'random_state': 0}\n"
     ]
    }
   ],
   "source": [
    "from sklearn.model_selection import GridSearchCV\n",
    "#Lasso\n",
    "\n",
    "parameters={'alpha':[.0001,.001,.01,.1,1],'random_state':list(range(0,100))}\n",
    "clf=GridSearchCV(ls,parameters,cv=4)\n",
    "clf.fit(x_train,y_train)\n",
    "print(clf.best_params_)"
   ]
  },
  {
   "cell_type": "code",
   "execution_count": 122,
   "metadata": {},
   "outputs": [
    {
     "name": "stdout",
     "output_type": "stream",
     "text": [
      "r2 score is : 0.8958180488433094\n",
      "cv score mean is: 0.8906940178789465\n"
     ]
    }
   ],
   "source": [
    "ls=Lasso(alpha=.01,random_state=0)\n",
    "ls.fit(x_train,y_train)\n",
    "pred_ls=ls.predict(x_test)\n",
    "print('r2 score is :',r2_score(y_test,pred_ls))\n",
    "cv_score=cross_val_score(ls,x,y,cv=4)\n",
    "cv_mean=cv_score.mean()\n",
    "print('cv score mean is:',cv_mean)"
   ]
  },
  {
   "cell_type": "code",
   "execution_count": 123,
   "metadata": {},
   "outputs": [
    {
     "data": {
      "text/plain": [
       "0.8958143606992394"
      ]
     },
     "execution_count": 123,
     "metadata": {},
     "output_type": "execute_result"
    }
   ],
   "source": [
    "#Rigde\n",
    "rd=Ridge(alpha=0.0001)\n",
    "rd.fit(x_train,y_train)\n",
    "rd.score(x_train,y_train)"
   ]
  },
  {
   "cell_type": "code",
   "execution_count": null,
   "metadata": {},
   "outputs": [],
   "source": [
    "#Their is no improvement in accuracy by regularization method."
   ]
  },
  {
   "cell_type": "code",
   "execution_count": 127,
   "metadata": {},
   "outputs": [
    {
     "name": "stdout",
     "output_type": "stream",
     "text": [
      "Training accuracy for kernel linear  is: 0.8875347631479351\n",
      "Testing accuracy for kernel linear is: 0.9033976760634093\n",
      "cv score mean is: 0.8789801434297428\n",
      "\n",
      "\n",
      "Training accuracy for kernel poly  is: 0.8257917154183891\n",
      "Testing accuracy for kernel poly is: 0.6773930247564398\n",
      "cv score mean is: 0.7570475762052021\n",
      "\n",
      "\n",
      "Training accuracy for kernel rbf  is: 0.9176383510020985\n",
      "Testing accuracy for kernel rbf is: 0.975991706075347\n",
      "cv score mean is: 0.8967038676931092\n",
      "\n",
      "\n"
     ]
    }
   ],
   "source": [
    "from sklearn.svm import SVR\n",
    "\n",
    "kernellist=['linear','poly','rbf']\n",
    "for i in kernellist:\n",
    "    sv=SVR(kernel=i)\n",
    "    sv.fit(x_train,y_train)\n",
    "    pred_train=sv.predict(x_train)\n",
    "    pred_test=sv.predict(x_test)\n",
    "    print('Training accuracy for kernel',i,' is:', r2_score(y_train,pred_train))\n",
    "    print('Testing accuracy for kernel',i,'is:',r2_score(y_test,pred_test))\n",
    "    cv_score=cross_val_score(sv,x,y,cv=4)\n",
    "    cv_mean=cv_score.mean()\n",
    "    print('cv score mean is:',cv_mean)\n",
    "    print('\\n')"
   ]
  },
  {
   "cell_type": "markdown",
   "metadata": {},
   "source": [
    "SVR is not a good model for our data."
   ]
  },
  {
   "cell_type": "markdown",
   "metadata": {},
   "source": [
    "Ensemble technique:"
   ]
  },
  {
   "cell_type": "code",
   "execution_count": 128,
   "metadata": {},
   "outputs": [],
   "source": [
    "from sklearn.ensemble import RandomForestRegressor,AdaBoostRegressor"
   ]
  },
  {
   "cell_type": "code",
   "execution_count": 134,
   "metadata": {},
   "outputs": [
    {
     "name": "stdout",
     "output_type": "stream",
     "text": [
      "RandomForestRegressor()\n",
      "Training accuracy for  is: 0.9965519867594032\n",
      "Testing accuracy for is: 0.9771129910906785\n",
      "\n",
      "\n",
      "AdaBoostRegressor()\n",
      "Training accuracy for  is: 0.9771681856074882\n",
      "Testing accuracy for is: 0.9507690097331702\n",
      "\n",
      "\n"
     ]
    }
   ],
   "source": [
    "rf=RandomForestRegressor()\n",
    "ada=AdaBoostRegressor()\n",
    "model=[rf,ada]\n",
    "\n",
    "for i in model:\n",
    "    print(i)\n",
    "    i.fit(x_train,y_train)\n",
    "    pred=i.predict(x_test)\n",
    "    pred_train=i.predict(x_train)\n",
    "    pred_test=i.predict(x_test)\n",
    "    print('Training accuracy for  is:', r2_score(y_train,pred_train))\n",
    "    print('Testing accuracy for is:',r2_score(y_test,pred_test))\n",
    "    print('\\n')"
   ]
  },
  {
   "cell_type": "code",
   "execution_count": 138,
   "metadata": {},
   "outputs": [
    {
     "name": "stdout",
     "output_type": "stream",
     "text": [
      "At cross fold 2 the cv score is 0.9710850913822734\n",
      "\n",
      "\n",
      "At cross fold 3 the cv score is 0.97561015147055\n",
      "\n",
      "\n",
      "At cross fold 4 the cv score is 0.9776424109513344\n",
      "\n",
      "\n",
      "At cross fold 5 the cv score is 0.9757281176898399\n",
      "\n",
      "\n",
      "At cross fold 6 the cv score is 0.9772856573653917\n",
      "\n",
      "\n",
      "At cross fold 7 the cv score is 0.9769725448467522\n",
      "\n",
      "\n",
      "At cross fold 8 the cv score is 0.977343132210255\n",
      "\n",
      "\n",
      "At cross fold 9 the cv score is 0.9754707114047577\n",
      "\n",
      "\n"
     ]
    }
   ],
   "source": [
    "#checking cross validation core of RandomForest as it is performing better than AdaBosst regrersor.\n",
    "for i in range(2,10):\n",
    "    cv_score=cross_val_score(rf,x,y,cv=i)\n",
    "    cv_mean=cv_score.mean()\n",
    "    print(f'At cross fold {i} the cv score is {cv_mean}' )\n",
    "    print('\\n')"
   ]
  },
  {
   "cell_type": "markdown",
   "metadata": {},
   "source": [
    "For Random Forest Regressor we are getting model accuracy and cross validation both as 97.7% (at cv=6), it shows that our model is performing well."
   ]
  },
  {
   "cell_type": "markdown",
   "metadata": {},
   "source": [
    "# Hyper parameter tuning"
   ]
  },
  {
   "cell_type": "code",
   "execution_count": 140,
   "metadata": {},
   "outputs": [
    {
     "name": "stdout",
     "output_type": "stream",
     "text": [
      "{'criterion': 'mae', 'max_features': 'auto'}\n"
     ]
    }
   ],
   "source": [
    "parameters={'criterion':['mse','mae'],'max_features':['auto','sqrt','log2']}\n",
    "clf=GridSearchCV(rf,parameters)\n",
    "clf.fit(x_train,y_train)\n",
    "print(clf.best_params_)"
   ]
  },
  {
   "cell_type": "code",
   "execution_count": 143,
   "metadata": {},
   "outputs": [
    {
     "name": "stdout",
     "output_type": "stream",
     "text": [
      "mean absolute error: 0.5393749999999993\n",
      "Root mean squared error: 0.6689313305564313\n",
      "R2 score is: 0.9792948543873791\n",
      "Cross Val Score is: 0.9782351068122891\n"
     ]
    }
   ],
   "source": [
    "rf=RandomForestRegressor(criterion='mse',max_features='auto')\n",
    "rf.fit(x_train,y_train)\n",
    "pred_rf=rf.predict(x_test)\n",
    "print('mean absolute error:',mean_absolute_error(y_test,pred_rf))\n",
    "print('Root mean squared error:', np.sqrt(mean_squared_error(y_test,pred_rf)))\n",
    "print('R2 score is:',r2_score(y_test,pred_rf))\n",
    "cv_score=cross_val_score(rf,x,y,cv=6)\n",
    "cv_mean=cv_score.mean()\n",
    "print('Cross Val Score is:',cv_mean)"
   ]
  },
  {
   "cell_type": "code",
   "execution_count": 145,
   "metadata": {},
   "outputs": [
    {
     "data": {
      "image/png": "[encoded data removed]",
      "text/plain": [
       "<Figure size 576x432 with 1 Axes>"
      ]
     },
     "metadata": {
      "needs_background": "light"
     },
     "output_type": "display_data"
    }
   ],
   "source": [
    "#ploting our model\n",
    "plt.figure(figsize=(8,6))\n",
    "plt.scatter(x=y_test, y=pred_rf, color='r')\n",
    "plt.plot(y_test,y_test,color='b')\n",
    "plt.xlabel('Actual sales')\n",
    "plt.ylabel('Predicted sales')\n",
    "plt.title('Random Forest Regressor')\n",
    "plt.show()"
   ]
  },
  {
   "cell_type": "markdown",
   "metadata": {},
   "source": [
    "Our model is performing very well as the model accuracy and cross validation both are 97%. \n",
    "\n",
    "RMSE and MAE values are also very low.\n",
    "\n",
    "Best fit line is covering most of the datapoints which shows a good fit."
   ]
  },
  {
   "cell_type": "code",
   "execution_count": 144,
   "metadata": {},
   "outputs": [
    {
     "data": {
      "text/plain": [
       "['Sales_prediction_rf.obj']"
      ]
     },
     "execution_count": 144,
     "metadata": {},
     "output_type": "execute_result"
    }
   ],
   "source": [
    "#Saving our model\n",
    "import joblib\n",
    "joblib.dump(rf,'Sales_prediction_rf.obj')"
   ]
  },
  {
   "cell_type": "code",
   "execution_count": null,
   "metadata": {},
   "outputs": [],
   "source": []
  }
 ],
 "metadata": {
  "kernelspec": {
   "display_name": "Python 3",
   "language": "python",
   "name": "python3"
  },
  "language_info": {
   "codemirror_mode": {
    "name": "ipython",
    "version": 3
   },
   "file_extension": ".py",
   "mimetype": "text/x-python",
   "name": "python",
   "nbconvert_exporter": "python",
   "pygments_lexer": "ipython3",
   "version": "3.8.3"
  }
 },
 "nbformat": 4,
 "nbformat_minor": 4
}
