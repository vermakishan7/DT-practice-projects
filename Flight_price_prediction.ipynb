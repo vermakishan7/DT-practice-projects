{
 "cells": [
  {
   "cell_type": "markdown",
   "metadata": {},
   "source": [
    "# Flight Price Prediction"
   ]
  },
  {
   "cell_type": "markdown",
   "metadata": {},
   "source": [
    "Problem Statement:\n",
    "\n",
    "Flight ticket prices can be something hard to guess, today we might see a price, check out the price of the same flight tomorrow, it will be a different story. We might have often heard travellers saying that flight ticket prices are so unpredictable. Here you will be provided with prices of flight tickets for various airlines between the months of March and June of 2019 and between various cities."
   ]
  },
  {
   "cell_type": "code",
   "execution_count": 1,
   "metadata": {},
   "outputs": [],
   "source": [
    "import pandas as pd\n",
    "import numpy as np\n",
    "import seaborn as sns\n",
    "import matplotlib.pyplot as plt\n",
    "import warnings\n",
    "warnings.filterwarnings('ignore')"
   ]
  },
  {
   "cell_type": "code",
   "execution_count": 2,
   "metadata": {},
   "outputs": [],
   "source": [
    "#Importing the train dataset.\n",
    "df=pd.read_excel('Flight_Data_Train.xlsx')"
   ]
  },
  {
   "cell_type": "code",
   "execution_count": 3,
   "metadata": {},
   "outputs": [
    {
     "data": {
      "text/html": [
       "<div>\n",
       "<style scoped>\n",
       "    .dataframe tbody tr th:only-of-type {\n",
       "        vertical-align: middle;\n",
       "    }\n",
       "\n",
       "    .dataframe tbody tr th {\n",
       "        vertical-align: top;\n",
       "    }\n",
       "\n",
       "    .dataframe thead th {\n",
       "        text-align: right;\n",
       "    }\n",
       "</style>\n",
       "<table border=\"1\" class=\"dataframe\">\n",
       "  <thead>\n",
       "    <tr style=\"text-align: right;\">\n",
       "      <th></th>\n",
       "      <th>Airline</th>\n",
       "      <th>Date_of_Journey</th>\n",
       "      <th>Source</th>\n",
       "      <th>Destination</th>\n",
       "      <th>Route</th>\n",
       "      <th>Dep_Time</th>\n",
       "      <th>Arrival_Time</th>\n",
       "      <th>Duration</th>\n",
       "      <th>Total_Stops</th>\n",
       "      <th>Additional_Info</th>\n",
       "      <th>Price</th>\n",
       "    </tr>\n",
       "  </thead>\n",
       "  <tbody>\n",
       "    <tr>\n",
       "      <th>0</th>\n",
       "      <td>IndiGo</td>\n",
       "      <td>24/03/2019</td>\n",
       "      <td>Banglore</td>\n",
       "      <td>New Delhi</td>\n",
       "      <td>BLR → DEL</td>\n",
       "      <td>22:20</td>\n",
       "      <td>01:10 22 Mar</td>\n",
       "      <td>2h 50m</td>\n",
       "      <td>non-stop</td>\n",
       "      <td>No info</td>\n",
       "      <td>3897</td>\n",
       "    </tr>\n",
       "    <tr>\n",
       "      <th>1</th>\n",
       "      <td>Air India</td>\n",
       "      <td>1/05/2019</td>\n",
       "      <td>Kolkata</td>\n",
       "      <td>Banglore</td>\n",
       "      <td>CCU → IXR → BBI → BLR</td>\n",
       "      <td>05:50</td>\n",
       "      <td>13:15</td>\n",
       "      <td>7h 25m</td>\n",
       "      <td>2 stops</td>\n",
       "      <td>No info</td>\n",
       "      <td>7662</td>\n",
       "    </tr>\n",
       "    <tr>\n",
       "      <th>2</th>\n",
       "      <td>Jet Airways</td>\n",
       "      <td>9/06/2019</td>\n",
       "      <td>Delhi</td>\n",
       "      <td>Cochin</td>\n",
       "      <td>DEL → LKO → BOM → COK</td>\n",
       "      <td>09:25</td>\n",
       "      <td>04:25 10 Jun</td>\n",
       "      <td>19h</td>\n",
       "      <td>2 stops</td>\n",
       "      <td>No info</td>\n",
       "      <td>13882</td>\n",
       "    </tr>\n",
       "    <tr>\n",
       "      <th>3</th>\n",
       "      <td>IndiGo</td>\n",
       "      <td>12/05/2019</td>\n",
       "      <td>Kolkata</td>\n",
       "      <td>Banglore</td>\n",
       "      <td>CCU → NAG → BLR</td>\n",
       "      <td>18:05</td>\n",
       "      <td>23:30</td>\n",
       "      <td>5h 25m</td>\n",
       "      <td>1 stop</td>\n",
       "      <td>No info</td>\n",
       "      <td>6218</td>\n",
       "    </tr>\n",
       "    <tr>\n",
       "      <th>4</th>\n",
       "      <td>IndiGo</td>\n",
       "      <td>01/03/2019</td>\n",
       "      <td>Banglore</td>\n",
       "      <td>New Delhi</td>\n",
       "      <td>BLR → NAG → DEL</td>\n",
       "      <td>16:50</td>\n",
       "      <td>21:35</td>\n",
       "      <td>4h 45m</td>\n",
       "      <td>1 stop</td>\n",
       "      <td>No info</td>\n",
       "      <td>13302</td>\n",
       "    </tr>\n",
       "  </tbody>\n",
       "</table>\n",
       "</div>"
      ],
      "text/plain": [
       "       Airline Date_of_Journey    Source Destination                  Route  \\\n",
       "0       IndiGo      24/03/2019  Banglore   New Delhi              BLR → DEL   \n",
       "1    Air India       1/05/2019   Kolkata    Banglore  CCU → IXR → BBI → BLR   \n",
       "2  Jet Airways       9/06/2019     Delhi      Cochin  DEL → LKO → BOM → COK   \n",
       "3       IndiGo      12/05/2019   Kolkata    Banglore        CCU → NAG → BLR   \n",
       "4       IndiGo      01/03/2019  Banglore   New Delhi        BLR → NAG → DEL   \n",
       "\n",
       "  Dep_Time  Arrival_Time Duration Total_Stops Additional_Info  Price  \n",
       "0    22:20  01:10 22 Mar   2h 50m    non-stop         No info   3897  \n",
       "1    05:50         13:15   7h 25m     2 stops         No info   7662  \n",
       "2    09:25  04:25 10 Jun      19h     2 stops         No info  13882  \n",
       "3    18:05         23:30   5h 25m      1 stop         No info   6218  \n",
       "4    16:50         21:35   4h 45m      1 stop         No info  13302  "
      ]
     },
     "execution_count": 3,
     "metadata": {},
     "output_type": "execute_result"
    }
   ],
   "source": [
    "df.head()"
   ]
  },
  {
   "cell_type": "code",
   "execution_count": 4,
   "metadata": {},
   "outputs": [
    {
     "data": {
      "text/plain": [
       "(10683, 11)"
      ]
     },
     "execution_count": 4,
     "metadata": {},
     "output_type": "execute_result"
    }
   ],
   "source": [
    "#cheking shape of the dataset\n",
    "df.shape"
   ]
  },
  {
   "cell_type": "markdown",
   "metadata": {},
   "source": [
    "We have 10,683 rows and 11 columns in our train dataset."
   ]
  },
  {
   "cell_type": "code",
   "execution_count": 5,
   "metadata": {},
   "outputs": [
    {
     "data": {
      "text/plain": [
       "Index(['Airline', 'Date_of_Journey', 'Source', 'Destination', 'Route',\n",
       "       'Dep_Time', 'Arrival_Time', 'Duration', 'Total_Stops',\n",
       "       'Additional_Info', 'Price'],\n",
       "      dtype='object')"
      ]
     },
     "execution_count": 5,
     "metadata": {},
     "output_type": "execute_result"
    }
   ],
   "source": [
    "#cheking column names\n",
    "df.columns"
   ]
  },
  {
   "cell_type": "markdown",
   "metadata": {},
   "source": [
    "Independent variables:\n",
    "   \n",
    "Airline: The name of the airline.\n",
    "\n",
    "Date_of_Journey: The date of the journey\n",
    "\n",
    "Source: The source from which the service begins.\n",
    "\n",
    "Destination: The destination where the service ends.\n",
    "\n",
    "Route: The route taken by the flight to reach the destination.\n",
    "\n",
    "Dep_Time: The time when the journey starts from the source.\n",
    "\n",
    "Arrival_Time: Time of arrival at the destination.\n",
    "\n",
    "Duration: Total duration of the flight.\n",
    "\n",
    "Total_Stops: Total stops between the source and destination.\n",
    "\n",
    "Additional_Info: Additional information about the flight\n",
    "\n",
    "Target variable:\n",
    "\n",
    "Price: The price of the ticket.\n",
    "\n",
    " "
   ]
  },
  {
   "cell_type": "code",
   "execution_count": 6,
   "metadata": {},
   "outputs": [
    {
     "data": {
      "text/plain": [
       "Airline            object\n",
       "Date_of_Journey    object\n",
       "Source             object\n",
       "Destination        object\n",
       "Route              object\n",
       "Dep_Time           object\n",
       "Arrival_Time       object\n",
       "Duration           object\n",
       "Total_Stops        object\n",
       "Additional_Info    object\n",
       "Price               int64\n",
       "dtype: object"
      ]
     },
     "execution_count": 6,
     "metadata": {},
     "output_type": "execute_result"
    }
   ],
   "source": [
    "#Checking data type\n",
    "df.dtypes"
   ]
  },
  {
   "cell_type": "markdown",
   "metadata": {},
   "source": [
    "All the independent variables are of object typer and target variable is of integer type."
   ]
  },
  {
   "cell_type": "code",
   "execution_count": 7,
   "metadata": {},
   "outputs": [
    {
     "data": {
      "text/plain": [
       "Airline            0\n",
       "Date_of_Journey    0\n",
       "Source             0\n",
       "Destination        0\n",
       "Route              1\n",
       "Dep_Time           0\n",
       "Arrival_Time       0\n",
       "Duration           0\n",
       "Total_Stops        1\n",
       "Additional_Info    0\n",
       "Price              0\n",
       "dtype: int64"
      ]
     },
     "execution_count": 7,
     "metadata": {},
     "output_type": "execute_result"
    }
   ],
   "source": [
    "#Checking null values\n",
    "df.isnull().sum()"
   ]
  },
  {
   "cell_type": "markdown",
   "metadata": {},
   "source": [
    "There is only 1 null value in route and total stops each, we will be dropping these rows."
   ]
  },
  {
   "cell_type": "code",
   "execution_count": 8,
   "metadata": {},
   "outputs": [],
   "source": [
    "df.dropna(inplace=True)"
   ]
  },
  {
   "cell_type": "code",
   "execution_count": 9,
   "metadata": {},
   "outputs": [
    {
     "data": {
      "text/plain": [
       "(10682, 11)"
      ]
     },
     "execution_count": 9,
     "metadata": {},
     "output_type": "execute_result"
    }
   ],
   "source": [
    "df.shape"
   ]
  },
  {
   "cell_type": "markdown",
   "metadata": {},
   "source": [
    "Only 1 single row was having  null value and it is removed."
   ]
  },
  {
   "cell_type": "code",
   "execution_count": 10,
   "metadata": {},
   "outputs": [
    {
     "data": {
      "text/html": [
       "<div>\n",
       "<style scoped>\n",
       "    .dataframe tbody tr th:only-of-type {\n",
       "        vertical-align: middle;\n",
       "    }\n",
       "\n",
       "    .dataframe tbody tr th {\n",
       "        vertical-align: top;\n",
       "    }\n",
       "\n",
       "    .dataframe thead th {\n",
       "        text-align: right;\n",
       "    }\n",
       "</style>\n",
       "<table border=\"1\" class=\"dataframe\">\n",
       "  <thead>\n",
       "    <tr style=\"text-align: right;\">\n",
       "      <th></th>\n",
       "      <th>Airline</th>\n",
       "      <th>Date_of_Journey</th>\n",
       "      <th>Source</th>\n",
       "      <th>Destination</th>\n",
       "      <th>Route</th>\n",
       "      <th>Dep_Time</th>\n",
       "      <th>Arrival_Time</th>\n",
       "      <th>Duration</th>\n",
       "      <th>Total_Stops</th>\n",
       "      <th>Additional_Info</th>\n",
       "      <th>Price</th>\n",
       "    </tr>\n",
       "  </thead>\n",
       "  <tbody>\n",
       "    <tr>\n",
       "      <th>683</th>\n",
       "      <td>Jet Airways</td>\n",
       "      <td>1/06/2019</td>\n",
       "      <td>Delhi</td>\n",
       "      <td>Cochin</td>\n",
       "      <td>DEL → NAG → BOM → COK</td>\n",
       "      <td>14:35</td>\n",
       "      <td>04:25 02 Jun</td>\n",
       "      <td>13h 50m</td>\n",
       "      <td>2 stops</td>\n",
       "      <td>No info</td>\n",
       "      <td>13376</td>\n",
       "    </tr>\n",
       "    <tr>\n",
       "      <th>1061</th>\n",
       "      <td>Air India</td>\n",
       "      <td>21/05/2019</td>\n",
       "      <td>Delhi</td>\n",
       "      <td>Cochin</td>\n",
       "      <td>DEL → GOI → BOM → COK</td>\n",
       "      <td>22:00</td>\n",
       "      <td>19:15 22 May</td>\n",
       "      <td>21h 15m</td>\n",
       "      <td>2 stops</td>\n",
       "      <td>No info</td>\n",
       "      <td>10231</td>\n",
       "    </tr>\n",
       "    <tr>\n",
       "      <th>1348</th>\n",
       "      <td>Air India</td>\n",
       "      <td>18/05/2019</td>\n",
       "      <td>Delhi</td>\n",
       "      <td>Cochin</td>\n",
       "      <td>DEL → HYD → BOM → COK</td>\n",
       "      <td>17:15</td>\n",
       "      <td>19:15 19 May</td>\n",
       "      <td>26h</td>\n",
       "      <td>2 stops</td>\n",
       "      <td>No info</td>\n",
       "      <td>12392</td>\n",
       "    </tr>\n",
       "    <tr>\n",
       "      <th>1418</th>\n",
       "      <td>Jet Airways</td>\n",
       "      <td>6/06/2019</td>\n",
       "      <td>Delhi</td>\n",
       "      <td>Cochin</td>\n",
       "      <td>DEL → JAI → BOM → COK</td>\n",
       "      <td>05:30</td>\n",
       "      <td>04:25 07 Jun</td>\n",
       "      <td>22h 55m</td>\n",
       "      <td>2 stops</td>\n",
       "      <td>In-flight meal not included</td>\n",
       "      <td>10368</td>\n",
       "    </tr>\n",
       "    <tr>\n",
       "      <th>1674</th>\n",
       "      <td>IndiGo</td>\n",
       "      <td>24/03/2019</td>\n",
       "      <td>Banglore</td>\n",
       "      <td>New Delhi</td>\n",
       "      <td>BLR → DEL</td>\n",
       "      <td>18:25</td>\n",
       "      <td>21:20</td>\n",
       "      <td>2h 55m</td>\n",
       "      <td>non-stop</td>\n",
       "      <td>No info</td>\n",
       "      <td>7303</td>\n",
       "    </tr>\n",
       "    <tr>\n",
       "      <th>...</th>\n",
       "      <td>...</td>\n",
       "      <td>...</td>\n",
       "      <td>...</td>\n",
       "      <td>...</td>\n",
       "      <td>...</td>\n",
       "      <td>...</td>\n",
       "      <td>...</td>\n",
       "      <td>...</td>\n",
       "      <td>...</td>\n",
       "      <td>...</td>\n",
       "      <td>...</td>\n",
       "    </tr>\n",
       "    <tr>\n",
       "      <th>10594</th>\n",
       "      <td>Jet Airways</td>\n",
       "      <td>27/06/2019</td>\n",
       "      <td>Delhi</td>\n",
       "      <td>Cochin</td>\n",
       "      <td>DEL → AMD → BOM → COK</td>\n",
       "      <td>23:05</td>\n",
       "      <td>12:35 28 Jun</td>\n",
       "      <td>13h 30m</td>\n",
       "      <td>2 stops</td>\n",
       "      <td>No info</td>\n",
       "      <td>12819</td>\n",
       "    </tr>\n",
       "    <tr>\n",
       "      <th>10616</th>\n",
       "      <td>Jet Airways</td>\n",
       "      <td>1/06/2019</td>\n",
       "      <td>Delhi</td>\n",
       "      <td>Cochin</td>\n",
       "      <td>DEL → JAI → BOM → COK</td>\n",
       "      <td>09:40</td>\n",
       "      <td>12:35 02 Jun</td>\n",
       "      <td>26h 55m</td>\n",
       "      <td>2 stops</td>\n",
       "      <td>No info</td>\n",
       "      <td>13014</td>\n",
       "    </tr>\n",
       "    <tr>\n",
       "      <th>10634</th>\n",
       "      <td>Jet Airways</td>\n",
       "      <td>6/06/2019</td>\n",
       "      <td>Delhi</td>\n",
       "      <td>Cochin</td>\n",
       "      <td>DEL → JAI → BOM → COK</td>\n",
       "      <td>09:40</td>\n",
       "      <td>12:35 07 Jun</td>\n",
       "      <td>26h 55m</td>\n",
       "      <td>2 stops</td>\n",
       "      <td>In-flight meal not included</td>\n",
       "      <td>11733</td>\n",
       "    </tr>\n",
       "    <tr>\n",
       "      <th>10672</th>\n",
       "      <td>Jet Airways</td>\n",
       "      <td>27/06/2019</td>\n",
       "      <td>Delhi</td>\n",
       "      <td>Cochin</td>\n",
       "      <td>DEL → AMD → BOM → COK</td>\n",
       "      <td>23:05</td>\n",
       "      <td>19:00 28 Jun</td>\n",
       "      <td>19h 55m</td>\n",
       "      <td>2 stops</td>\n",
       "      <td>In-flight meal not included</td>\n",
       "      <td>11150</td>\n",
       "    </tr>\n",
       "    <tr>\n",
       "      <th>10673</th>\n",
       "      <td>Jet Airways</td>\n",
       "      <td>27/05/2019</td>\n",
       "      <td>Delhi</td>\n",
       "      <td>Cochin</td>\n",
       "      <td>DEL → AMD → BOM → COK</td>\n",
       "      <td>13:25</td>\n",
       "      <td>04:25 28 May</td>\n",
       "      <td>15h</td>\n",
       "      <td>2 stops</td>\n",
       "      <td>No info</td>\n",
       "      <td>16704</td>\n",
       "    </tr>\n",
       "  </tbody>\n",
       "</table>\n",
       "<p>220 rows × 11 columns</p>\n",
       "</div>"
      ],
      "text/plain": [
       "           Airline Date_of_Journey    Source Destination  \\\n",
       "683    Jet Airways       1/06/2019     Delhi      Cochin   \n",
       "1061     Air India      21/05/2019     Delhi      Cochin   \n",
       "1348     Air India      18/05/2019     Delhi      Cochin   \n",
       "1418   Jet Airways       6/06/2019     Delhi      Cochin   \n",
       "1674        IndiGo      24/03/2019  Banglore   New Delhi   \n",
       "...            ...             ...       ...         ...   \n",
       "10594  Jet Airways      27/06/2019     Delhi      Cochin   \n",
       "10616  Jet Airways       1/06/2019     Delhi      Cochin   \n",
       "10634  Jet Airways       6/06/2019     Delhi      Cochin   \n",
       "10672  Jet Airways      27/06/2019     Delhi      Cochin   \n",
       "10673  Jet Airways      27/05/2019     Delhi      Cochin   \n",
       "\n",
       "                       Route Dep_Time  Arrival_Time Duration Total_Stops  \\\n",
       "683    DEL → NAG → BOM → COK    14:35  04:25 02 Jun  13h 50m     2 stops   \n",
       "1061   DEL → GOI → BOM → COK    22:00  19:15 22 May  21h 15m     2 stops   \n",
       "1348   DEL → HYD → BOM → COK    17:15  19:15 19 May      26h     2 stops   \n",
       "1418   DEL → JAI → BOM → COK    05:30  04:25 07 Jun  22h 55m     2 stops   \n",
       "1674               BLR → DEL    18:25         21:20   2h 55m    non-stop   \n",
       "...                      ...      ...           ...      ...         ...   \n",
       "10594  DEL → AMD → BOM → COK    23:05  12:35 28 Jun  13h 30m     2 stops   \n",
       "10616  DEL → JAI → BOM → COK    09:40  12:35 02 Jun  26h 55m     2 stops   \n",
       "10634  DEL → JAI → BOM → COK    09:40  12:35 07 Jun  26h 55m     2 stops   \n",
       "10672  DEL → AMD → BOM → COK    23:05  19:00 28 Jun  19h 55m     2 stops   \n",
       "10673  DEL → AMD → BOM → COK    13:25  04:25 28 May      15h     2 stops   \n",
       "\n",
       "                   Additional_Info  Price  \n",
       "683                        No info  13376  \n",
       "1061                       No info  10231  \n",
       "1348                       No info  12392  \n",
       "1418   In-flight meal not included  10368  \n",
       "1674                       No info   7303  \n",
       "...                            ...    ...  \n",
       "10594                      No info  12819  \n",
       "10616                      No info  13014  \n",
       "10634  In-flight meal not included  11733  \n",
       "10672  In-flight meal not included  11150  \n",
       "10673                      No info  16704  \n",
       "\n",
       "[220 rows x 11 columns]"
      ]
     },
     "execution_count": 10,
     "metadata": {},
     "output_type": "execute_result"
    }
   ],
   "source": [
    "#Checking duplicate entries\n",
    "df[df.duplicated()]"
   ]
  },
  {
   "cell_type": "code",
   "execution_count": 11,
   "metadata": {},
   "outputs": [],
   "source": [
    "#Removing duplicate rows (keeping the first one)\n",
    "df.drop_duplicates(keep='first',inplace=True)"
   ]
  },
  {
   "cell_type": "code",
   "execution_count": 12,
   "metadata": {},
   "outputs": [
    {
     "data": {
      "text/plain": [
       "(10462, 11)"
      ]
     },
     "execution_count": 12,
     "metadata": {},
     "output_type": "execute_result"
    }
   ],
   "source": [
    "df.shape"
   ]
  },
  {
   "cell_type": "markdown",
   "metadata": {},
   "source": [
    "Now we have 10462 rows and 11 columns."
   ]
  },
  {
   "cell_type": "markdown",
   "metadata": {},
   "source": [
    "Extracting more features from the existing columns:"
   ]
  },
  {
   "cell_type": "code",
   "execution_count": 13,
   "metadata": {},
   "outputs": [],
   "source": [
    "#Extracting day, month and year from Date of journey\n",
    "df['Journey_Day'],df['Journey_Month'],df['Journey_Year']=df['Date_of_Journey'].str.split('/',3).str"
   ]
  },
  {
   "cell_type": "code",
   "execution_count": 14,
   "metadata": {},
   "outputs": [],
   "source": [
    "#Separating hours and minutes from departure time and making#Separating hours and minutes from departure time and make individual columns  individual columns \n",
    "df['Dep_Hr'],df['Dep_Min']=df['Dep_Time'].str.split(':',2).str"
   ]
  },
  {
   "cell_type": "code",
   "execution_count": 15,
   "metadata": {},
   "outputs": [],
   "source": [
    "#Removing date from arrival time\n",
    "df['Arrival_Time'],_=df['Arrival_Time'].str.split(' ',1).str"
   ]
  },
  {
   "cell_type": "code",
   "execution_count": 16,
   "metadata": {},
   "outputs": [
    {
     "data": {
      "text/plain": [
       "0        01:10\n",
       "1        13:15\n",
       "2        04:25\n",
       "3        23:30\n",
       "4        21:35\n",
       "         ...  \n",
       "10678    22:25\n",
       "10679    23:20\n",
       "10680    11:20\n",
       "10681    14:10\n",
       "10682    19:15\n",
       "Name: Arrival_Time, Length: 10462, dtype: object"
      ]
     },
     "execution_count": 16,
     "metadata": {},
     "output_type": "execute_result"
    }
   ],
   "source": [
    "df['Arrival_Time']"
   ]
  },
  {
   "cell_type": "code",
   "execution_count": 17,
   "metadata": {},
   "outputs": [],
   "source": [
    "#Separating hours and minutes from arrival time and making individual columns\n",
    "df['Arrival_Hr'],df['Arrival_Min']=df['Arrival_Time'].str.split(':',2).str"
   ]
  },
  {
   "cell_type": "code",
   "execution_count": 18,
   "metadata": {},
   "outputs": [],
   "source": [
    "#Replacing 'h' in duration with ':' and 'm' with blank space\n",
    "df['Duration']=df['Duration'].str.replace('h ',':').str.replace('h',':').str.replace('m','')"
   ]
  },
  {
   "cell_type": "code",
   "execution_count": 19,
   "metadata": {},
   "outputs": [],
   "source": [
    "#Separating hours and minutes from duration and making individual columns\n",
    "df['Duration_Hr'],df['Duration_Min']= df['Duration'].str.split(':',2).str"
   ]
  },
  {
   "cell_type": "code",
   "execution_count": 20,
   "metadata": {},
   "outputs": [
    {
     "data": {
      "text/plain": [
       "array(['non-stop', '2 stops', '1 stop', '3 stops', '4 stops'],\n",
       "      dtype=object)"
      ]
     },
     "execution_count": 20,
     "metadata": {},
     "output_type": "execute_result"
    }
   ],
   "source": [
    "#Checking unique values in total stops\n",
    "df['Total_Stops'].unique()"
   ]
  },
  {
   "cell_type": "code",
   "execution_count": 21,
   "metadata": {},
   "outputs": [],
   "source": [
    "#Keeping only the numeric value in stops columns and placing 0 for non stop flights.\n",
    "df[\"Total_Stops\"]=df[\"Total_Stops\"].replace({'non-stop':0,'2 stops':2,'1 stop':1,'3 stops':3,'4 stops':4})"
   ]
  },
  {
   "cell_type": "code",
   "execution_count": 22,
   "metadata": {},
   "outputs": [
    {
     "data": {
      "text/plain": [
       "array([0, 2, 1, 3, 4], dtype=int64)"
      ]
     },
     "execution_count": 22,
     "metadata": {},
     "output_type": "execute_result"
    }
   ],
   "source": [
    "df['Total_Stops'].unique()"
   ]
  },
  {
   "cell_type": "code",
   "execution_count": 23,
   "metadata": {},
   "outputs": [
    {
     "data": {
      "text/plain": [
       "No info                         8182\n",
       "In-flight meal not included     1926\n",
       "No check-in baggage included     318\n",
       "1 Long layover                    19\n",
       "Change airports                    7\n",
       "Business class                     4\n",
       "No Info                            3\n",
       "2 Long layover                     1\n",
       "Red-eye flight                     1\n",
       "1 Short layover                    1\n",
       "Name: Additional_Info, dtype: int64"
      ]
     },
     "execution_count": 23,
     "metadata": {},
     "output_type": "execute_result"
    }
   ],
   "source": [
    "#Checking additional info column\n",
    "df['Additional_Info'].value_counts()"
   ]
  },
  {
   "cell_type": "markdown",
   "metadata": {},
   "source": [
    "As we don't have any info for the majority of entries, therefore we will be drooping the column. \n",
    "\n",
    "Dropping date of journey, dep_time, arrival_time and duration column as ew have extracted the information from these columns and have made new columns from them.\n",
    "\n",
    "Route column indicates the number of stops, which we already have in the total stops column therfore we will be removing the route column as well."
   ]
  },
  {
   "cell_type": "code",
   "execution_count": 24,
   "metadata": {},
   "outputs": [],
   "source": [
    "df.drop(columns=['Date_of_Journey','Route','Dep_Time','Arrival_Time','Duration','Additional_Info'],axis=1,inplace=True)"
   ]
  },
  {
   "cell_type": "code",
   "execution_count": 25,
   "metadata": {},
   "outputs": [
    {
     "data": {
      "text/plain": [
       "Index(['Airline', 'Source', 'Destination', 'Total_Stops', 'Price',\n",
       "       'Journey_Day', 'Journey_Month', 'Journey_Year', 'Dep_Hr', 'Dep_Min',\n",
       "       'Arrival_Hr', 'Arrival_Min', 'Duration_Hr', 'Duration_Min'],\n",
       "      dtype='object')"
      ]
     },
     "execution_count": 25,
     "metadata": {},
     "output_type": "execute_result"
    }
   ],
   "source": [
    "df.columns"
   ]
  },
  {
   "cell_type": "code",
   "execution_count": 26,
   "metadata": {},
   "outputs": [
    {
     "data": {
      "text/plain": [
       "Airline          object\n",
       "Source           object\n",
       "Destination      object\n",
       "Total_Stops       int64\n",
       "Price             int64\n",
       "Journey_Day      object\n",
       "Journey_Month    object\n",
       "Journey_Year     object\n",
       "Dep_Hr           object\n",
       "Dep_Min          object\n",
       "Arrival_Hr       object\n",
       "Arrival_Min      object\n",
       "Duration_Hr      object\n",
       "Duration_Min     object\n",
       "dtype: object"
      ]
     },
     "execution_count": 26,
     "metadata": {},
     "output_type": "execute_result"
    }
   ],
   "source": [
    "df.dtypes"
   ]
  },
  {
   "cell_type": "code",
   "execution_count": 27,
   "metadata": {},
   "outputs": [],
   "source": [
    "#Converting the newly created columns to integer\n",
    "new_col=['Journey_Day','Journey_Month','Journey_Year','Dep_Hr','Dep_Min','Arrival_Hr','Arrival_Min','Duration_Hr','Duration_Min']\n",
    "for i in new_col:\n",
    "    df[i]=pd.to_numeric(df[i],errors='coerce')"
   ]
  },
  {
   "cell_type": "code",
   "execution_count": 28,
   "metadata": {},
   "outputs": [
    {
     "data": {
      "text/plain": [
       "Airline           object\n",
       "Source            object\n",
       "Destination       object\n",
       "Total_Stops        int64\n",
       "Price              int64\n",
       "Journey_Day        int64\n",
       "Journey_Month      int64\n",
       "Journey_Year       int64\n",
       "Dep_Hr             int64\n",
       "Dep_Min            int64\n",
       "Arrival_Hr         int64\n",
       "Arrival_Min        int64\n",
       "Duration_Hr        int64\n",
       "Duration_Min     float64\n",
       "dtype: object"
      ]
     },
     "execution_count": 28,
     "metadata": {},
     "output_type": "execute_result"
    }
   ],
   "source": [
    "df.dtypes"
   ]
  },
  {
   "cell_type": "code",
   "execution_count": 29,
   "metadata": {},
   "outputs": [
    {
     "data": {
      "text/plain": [
       "Airline             0\n",
       "Source              0\n",
       "Destination         0\n",
       "Total_Stops         0\n",
       "Price               0\n",
       "Journey_Day         0\n",
       "Journey_Month       0\n",
       "Journey_Year        0\n",
       "Dep_Hr              0\n",
       "Dep_Min             0\n",
       "Arrival_Hr          0\n",
       "Arrival_Min         0\n",
       "Duration_Hr         0\n",
       "Duration_Min     1006\n",
       "dtype: int64"
      ]
     },
     "execution_count": 29,
     "metadata": {},
     "output_type": "execute_result"
    }
   ],
   "source": [
    "#Checking for null values as in duration some rows only contained hours therfore in those rows null values would be created by the data type conversion code used above. \n",
    "df.isnull().sum()"
   ]
  },
  {
   "cell_type": "code",
   "execution_count": 30,
   "metadata": {},
   "outputs": [],
   "source": [
    "#Replacing the null values with 0\n",
    "df['Duration_Min'].fillna(0,inplace=True)"
   ]
  },
  {
   "cell_type": "code",
   "execution_count": 31,
   "metadata": {},
   "outputs": [
    {
     "data": {
      "text/plain": [
       "Airline          0\n",
       "Source           0\n",
       "Destination      0\n",
       "Total_Stops      0\n",
       "Price            0\n",
       "Journey_Day      0\n",
       "Journey_Month    0\n",
       "Journey_Year     0\n",
       "Dep_Hr           0\n",
       "Dep_Min          0\n",
       "Arrival_Hr       0\n",
       "Arrival_Min      0\n",
       "Duration_Hr      0\n",
       "Duration_Min     0\n",
       "dtype: int64"
      ]
     },
     "execution_count": 31,
     "metadata": {},
     "output_type": "execute_result"
    }
   ],
   "source": [
    "df.isnull().sum()"
   ]
  },
  {
   "cell_type": "markdown",
   "metadata": {},
   "source": [
    "# Visualization:"
   ]
  },
  {
   "cell_type": "code",
   "execution_count": 32,
   "metadata": {},
   "outputs": [
    {
     "data": {
      "image/png": "[encoded data removed]",
      "text/plain": [
       "<Figure size 1080x360 with 1 Axes>"
      ]
     },
     "metadata": {
      "needs_background": "light"
     },
     "output_type": "display_data"
    },
    {
     "data": {
      "image/png": "[encoded data removed]",
      "text/plain": [
       "<Figure size 1080x360 with 1 Axes>"
      ]
     },
     "metadata": {
      "needs_background": "light"
     },
     "output_type": "display_data"
    },
    {
     "data": {
      "image/png": "[encoded data removed]",
      "text/plain": [
       "<Figure size 1080x360 with 1 Axes>"
      ]
     },
     "metadata": {
      "needs_background": "light"
     },
     "output_type": "display_data"
    },
    {
     "data": {
      "image/png": "[encoded data removed]",
      "text/plain": [
       "<Figure size 1080x360 with 1 Axes>"
      ]
     },
     "metadata": {
      "needs_background": "light"
     },
     "output_type": "display_data"
    },
    {
     "data": {
      "image/png": "[encoded data removed]",
      "text/plain": [
       "<Figure size 1080x360 with 1 Axes>"
      ]
     },
     "metadata": {
      "needs_background": "light"
     },
     "output_type": "display_data"
    },
    {
     "data": {
      "image/png": "[encoded data removed]",
      "text/plain": [
       "<Figure size 1080x360 with 1 Axes>"
      ]
     },
     "metadata": {
      "needs_background": "light"
     },
     "output_type": "display_data"
    },
    {
     "data": {
      "image/png": "[encoded data removed]",
      "text/plain": [
       "<Figure size 1080x360 with 1 Axes>"
      ]
     },
     "metadata": {
      "needs_background": "light"
     },
     "output_type": "display_data"
    },
    {
     "data": {
      "image/png": "[encoded data removed]",
      "text/plain": [
       "<Figure size 1080x360 with 1 Axes>"
      ]
     },
     "metadata": {
      "needs_background": "light"
     },
     "output_type": "display_data"
    },
    {
     "data": {
      "image/png": "[encoded data removed]",
      "text/plain": [
       "<Figure size 1080x360 with 1 Axes>"
      ]
     },
     "metadata": {
      "needs_background": "light"
     },
     "output_type": "display_data"
    },
    {
     "data": {
      "image/png": "[encoded data removed]",
      "text/plain": [
       "<Figure size 1080x360 with 1 Axes>"
      ]
     },
     "metadata": {
      "needs_background": "light"
     },
     "output_type": "display_data"
    },
    {
     "data": {
      "image/png": "[encoded data removed]",
      "text/plain": [
       "<Figure size 1080x360 with 1 Axes>"
      ]
     },
     "metadata": {
      "needs_background": "light"
     },
     "output_type": "display_data"
    },
    {
     "data": {
      "image/png": "[encoded data removed]",
      "text/plain": [
       "<Figure size 1080x360 with 1 Axes>"
      ]
     },
     "metadata": {
      "needs_background": "light"
     },
     "output_type": "display_data"
    },
    {
     "data": {
      "image/png": "[encoded data removed]",
      "text/plain": [
       "<Figure size 1080x360 with 1 Axes>"
      ]
     },
     "metadata": {
      "needs_background": "light"
     },
     "output_type": "display_data"
    },
    {
     "data": {
      "image/png": "[encoded data removed]",
      "text/plain": [
       "<Figure size 1080x360 with 1 Axes>"
      ]
     },
     "metadata": {
      "needs_background": "light"
     },
     "output_type": "display_data"
    }
   ],
   "source": [
    "for i in df.columns:\n",
    "    plt.figure(figsize=(15,5))\n",
    "    sns.countplot(df[i])\n",
    "    plt.xticks(rotation=90)\n",
    "    plt.show()"
   ]
  },
  {
   "cell_type": "markdown",
   "metadata": {},
   "source": [
    "Observations:\n",
    "   \n",
    "Jetairways have the maximum number of flights in our dataset.\n",
    "\n",
    "Source of majority of flights is Delhi.\n",
    "\n",
    "Destination of majority of flights is Cochin followed by Banglore.\n",
    "\n",
    "Maximum number of flights have 1 stopage.\n",
    "\n",
    "Maximum journeys are done on 9th day of the month.\n",
    "\n",
    "Majority of flights fly in 5th month of the year.\n",
    "\n",
    "Our data set have data of the year 2019.\n",
    "\n",
    "Majority  flights departs at 9 in the morning.\n",
    "\n",
    "Arrival time for majority of flights is 19 in the evening.\n",
    "\n",
    "Duration of most of the flights is between 2-3 hrs.\n"
   ]
  },
  {
   "cell_type": "code",
   "execution_count": 33,
   "metadata": {},
   "outputs": [
    {
     "data": {
      "image/png": "[encoded data removed]",
      "text/plain": [
       "<Figure size 432x288 with 1 Axes>"
      ]
     },
     "metadata": {
      "needs_background": "light"
     },
     "output_type": "display_data"
    }
   ],
   "source": [
    "plt.hist(df['Price'],bins=40)\n",
    "plt.show()"
   ]
  },
  {
   "cell_type": "markdown",
   "metadata": {},
   "source": [
    "Flight price data is skewed and extreme values are present in the target variable."
   ]
  },
  {
   "cell_type": "code",
   "execution_count": 34,
   "metadata": {},
   "outputs": [
    {
     "data": {
      "image/png": "[encoded data removed]",
      "text/plain": [
       "<Figure size 864x360 with 1 Axes>"
      ]
     },
     "metadata": {
      "needs_background": "light"
     },
     "output_type": "display_data"
    },
    {
     "data": {
      "image/png": "[encoded data removed]",
      "text/plain": [
       "<Figure size 864x360 with 1 Axes>"
      ]
     },
     "metadata": {
      "needs_background": "light"
     },
     "output_type": "display_data"
    },
    {
     "data": {
      "image/png": "[encoded data removed]",
      "text/plain": [
       "<Figure size 864x360 with 1 Axes>"
      ]
     },
     "metadata": {
      "needs_background": "light"
     },
     "output_type": "display_data"
    },
    {
     "data": {
      "image/png": "[encoded data removed]",
      "text/plain": [
       "<Figure size 864x360 with 1 Axes>"
      ]
     },
     "metadata": {
      "needs_background": "light"
     },
     "output_type": "display_data"
    },
    {
     "data": {
      "image/png": "[encoded data removed]",
      "text/plain": [
       "<Figure size 864x360 with 1 Axes>"
      ]
     },
     "metadata": {
      "needs_background": "light"
     },
     "output_type": "display_data"
    },
    {
     "data": {
      "image/png": "[encoded data removed]",
      "text/plain": [
       "<Figure size 864x360 with 1 Axes>"
      ]
     },
     "metadata": {
      "needs_background": "light"
     },
     "output_type": "display_data"
    },
    {
     "data": {
      "image/png": "[encoded data removed]",
      "text/plain": [
       "<Figure size 864x360 with 1 Axes>"
      ]
     },
     "metadata": {
      "needs_background": "light"
     },
     "output_type": "display_data"
    },
    {
     "data": {
      "image/png": "[encoded data removed]",
      "text/plain": [
       "<Figure size 864x360 with 1 Axes>"
      ]
     },
     "metadata": {
      "needs_background": "light"
     },
     "output_type": "display_data"
    }
   ],
   "source": [
    "col=['Airline','Source','Destination','Total_Stops','Journey_Day', 'Journey_Month','Dep_Hr','Duration_Hr']\n",
    "\n",
    "for i in col:\n",
    "    plt.figure(figsize=(12,5))\n",
    "    sns.barplot(df[i], df['Price'])\n",
    "    plt.xticks(rotation=90)\n",
    "    plt.show()"
   ]
  },
  {
   "cell_type": "markdown",
   "metadata": {},
   "source": [
    "Observations:\n",
    "\n",
    "Jet Airways Business is the most expensive airline and Trujet is the cheapest.\n",
    "\n",
    "Flight rates are higher whose source is Delhi.\n",
    "\n",
    "Flight rates are high for flights having destination New Delhi.\n",
    "\n",
    "Flights are expensive if you have more number of stops.\n",
    "\n",
    "On 1st day of the month the flight rates are high and low on 15th and 27th day of month.\n",
    "\n",
    "Flight rates are high in the 3rd month and low in 4th month.\n",
    "\n",
    "Flight rates are low for those which departs at 1am.\n",
    "\n",
    "Flight rates increases with increase in duration time of the journey.\n",
    "\n"
   ]
  },
  {
   "cell_type": "code",
   "execution_count": 35,
   "metadata": {},
   "outputs": [
    {
     "data": {
      "text/html": [
       "<div>\n",
       "<style scoped>\n",
       "    .dataframe tbody tr th:only-of-type {\n",
       "        vertical-align: middle;\n",
       "    }\n",
       "\n",
       "    .dataframe tbody tr th {\n",
       "        vertical-align: top;\n",
       "    }\n",
       "\n",
       "    .dataframe thead th {\n",
       "        text-align: right;\n",
       "    }\n",
       "</style>\n",
       "<table border=\"1\" class=\"dataframe\">\n",
       "  <thead>\n",
       "    <tr style=\"text-align: right;\">\n",
       "      <th></th>\n",
       "      <th>Total_Stops</th>\n",
       "      <th>Price</th>\n",
       "      <th>Journey_Day</th>\n",
       "      <th>Journey_Month</th>\n",
       "      <th>Journey_Year</th>\n",
       "      <th>Dep_Hr</th>\n",
       "      <th>Dep_Min</th>\n",
       "      <th>Arrival_Hr</th>\n",
       "      <th>Arrival_Min</th>\n",
       "      <th>Duration_Hr</th>\n",
       "      <th>Duration_Min</th>\n",
       "    </tr>\n",
       "  </thead>\n",
       "  <tbody>\n",
       "    <tr>\n",
       "      <th>count</th>\n",
       "      <td>10462.000000</td>\n",
       "      <td>10462.000000</td>\n",
       "      <td>10462.000000</td>\n",
       "      <td>10462.000000</td>\n",
       "      <td>10462.0</td>\n",
       "      <td>10462.000000</td>\n",
       "      <td>10462.000000</td>\n",
       "      <td>10462.000000</td>\n",
       "      <td>10462.000000</td>\n",
       "      <td>10462.000000</td>\n",
       "      <td>10462.000000</td>\n",
       "    </tr>\n",
       "    <tr>\n",
       "      <th>mean</th>\n",
       "      <td>0.802332</td>\n",
       "      <td>9026.790289</td>\n",
       "      <td>13.463200</td>\n",
       "      <td>4.701491</td>\n",
       "      <td>2019.0</td>\n",
       "      <td>12.478494</td>\n",
       "      <td>24.404989</td>\n",
       "      <td>13.387689</td>\n",
       "      <td>24.719939</td>\n",
       "      <td>10.026668</td>\n",
       "      <td>28.209711</td>\n",
       "    </tr>\n",
       "    <tr>\n",
       "      <th>std</th>\n",
       "      <td>0.660609</td>\n",
       "      <td>4624.849541</td>\n",
       "      <td>8.467493</td>\n",
       "      <td>1.163802</td>\n",
       "      <td>0.0</td>\n",
       "      <td>5.727227</td>\n",
       "      <td>18.815719</td>\n",
       "      <td>6.855547</td>\n",
       "      <td>16.570450</td>\n",
       "      <td>8.377593</td>\n",
       "      <td>16.879913</td>\n",
       "    </tr>\n",
       "    <tr>\n",
       "      <th>min</th>\n",
       "      <td>0.000000</td>\n",
       "      <td>1759.000000</td>\n",
       "      <td>1.000000</td>\n",
       "      <td>3.000000</td>\n",
       "      <td>2019.0</td>\n",
       "      <td>0.000000</td>\n",
       "      <td>0.000000</td>\n",
       "      <td>0.000000</td>\n",
       "      <td>0.000000</td>\n",
       "      <td>1.000000</td>\n",
       "      <td>0.000000</td>\n",
       "    </tr>\n",
       "    <tr>\n",
       "      <th>25%</th>\n",
       "      <td>0.000000</td>\n",
       "      <td>5224.000000</td>\n",
       "      <td>6.000000</td>\n",
       "      <td>3.000000</td>\n",
       "      <td>2019.0</td>\n",
       "      <td>8.000000</td>\n",
       "      <td>5.000000</td>\n",
       "      <td>8.000000</td>\n",
       "      <td>10.000000</td>\n",
       "      <td>2.000000</td>\n",
       "      <td>15.000000</td>\n",
       "    </tr>\n",
       "    <tr>\n",
       "      <th>50%</th>\n",
       "      <td>1.000000</td>\n",
       "      <td>8266.000000</td>\n",
       "      <td>12.000000</td>\n",
       "      <td>5.000000</td>\n",
       "      <td>2019.0</td>\n",
       "      <td>11.000000</td>\n",
       "      <td>25.000000</td>\n",
       "      <td>14.000000</td>\n",
       "      <td>25.000000</td>\n",
       "      <td>8.000000</td>\n",
       "      <td>30.000000</td>\n",
       "    </tr>\n",
       "    <tr>\n",
       "      <th>75%</th>\n",
       "      <td>1.000000</td>\n",
       "      <td>12344.750000</td>\n",
       "      <td>21.000000</td>\n",
       "      <td>6.000000</td>\n",
       "      <td>2019.0</td>\n",
       "      <td>18.000000</td>\n",
       "      <td>40.000000</td>\n",
       "      <td>19.000000</td>\n",
       "      <td>35.000000</td>\n",
       "      <td>15.000000</td>\n",
       "      <td>45.000000</td>\n",
       "    </tr>\n",
       "    <tr>\n",
       "      <th>max</th>\n",
       "      <td>4.000000</td>\n",
       "      <td>79512.000000</td>\n",
       "      <td>27.000000</td>\n",
       "      <td>6.000000</td>\n",
       "      <td>2019.0</td>\n",
       "      <td>23.000000</td>\n",
       "      <td>55.000000</td>\n",
       "      <td>23.000000</td>\n",
       "      <td>55.000000</td>\n",
       "      <td>47.000000</td>\n",
       "      <td>55.000000</td>\n",
       "    </tr>\n",
       "  </tbody>\n",
       "</table>\n",
       "</div>"
      ],
      "text/plain": [
       "        Total_Stops         Price   Journey_Day  Journey_Month  Journey_Year  \\\n",
       "count  10462.000000  10462.000000  10462.000000   10462.000000       10462.0   \n",
       "mean       0.802332   9026.790289     13.463200       4.701491        2019.0   \n",
       "std        0.660609   4624.849541      8.467493       1.163802           0.0   \n",
       "min        0.000000   1759.000000      1.000000       3.000000        2019.0   \n",
       "25%        0.000000   5224.000000      6.000000       3.000000        2019.0   \n",
       "50%        1.000000   8266.000000     12.000000       5.000000        2019.0   \n",
       "75%        1.000000  12344.750000     21.000000       6.000000        2019.0   \n",
       "max        4.000000  79512.000000     27.000000       6.000000        2019.0   \n",
       "\n",
       "             Dep_Hr       Dep_Min    Arrival_Hr   Arrival_Min   Duration_Hr  \\\n",
       "count  10462.000000  10462.000000  10462.000000  10462.000000  10462.000000   \n",
       "mean      12.478494     24.404989     13.387689     24.719939     10.026668   \n",
       "std        5.727227     18.815719      6.855547     16.570450      8.377593   \n",
       "min        0.000000      0.000000      0.000000      0.000000      1.000000   \n",
       "25%        8.000000      5.000000      8.000000     10.000000      2.000000   \n",
       "50%       11.000000     25.000000     14.000000     25.000000      8.000000   \n",
       "75%       18.000000     40.000000     19.000000     35.000000     15.000000   \n",
       "max       23.000000     55.000000     23.000000     55.000000     47.000000   \n",
       "\n",
       "       Duration_Min  \n",
       "count  10462.000000  \n",
       "mean      28.209711  \n",
       "std       16.879913  \n",
       "min        0.000000  \n",
       "25%       15.000000  \n",
       "50%       30.000000  \n",
       "75%       45.000000  \n",
       "max       55.000000  "
      ]
     },
     "execution_count": 35,
     "metadata": {},
     "output_type": "execute_result"
    }
   ],
   "source": [
    "df.describe()"
   ]
  },
  {
   "cell_type": "markdown",
   "metadata": {},
   "source": [
    "The minimum price of a flight is 1759 and maximum is 79512."
   ]
  },
  {
   "cell_type": "code",
   "execution_count": 36,
   "metadata": {},
   "outputs": [
    {
     "data": {
      "text/plain": [
       "<matplotlib.axes._subplots.AxesSubplot at 0x1ca2c8fcfd0>"
      ]
     },
     "execution_count": 36,
     "metadata": {},
     "output_type": "execute_result"
    },
    {
     "data": {
      "image/png": "[encoded data removed]",
      "text/plain": [
       "<Figure size 864x576 with 2 Axes>"
      ]
     },
     "metadata": {
      "needs_background": "light"
     },
     "output_type": "display_data"
    }
   ],
   "source": [
    "#Checking correlation\n",
    "plt.figure(figsize=(12,8))\n",
    "sns.heatmap(df.corr(),annot=True)"
   ]
  },
  {
   "cell_type": "markdown",
   "metadata": {},
   "source": [
    "Observations:\n",
    "\n",
    "Price and total stops are have strong correlation.\n",
    "\n",
    "price and duration hr are positively correlated.\n",
    "\n",
    "Total stops and duration hr are stongly correlated as the duration hours will increase with the increase in total stops.\n"
   ]
  },
  {
   "cell_type": "markdown",
   "metadata": {},
   "source": [
    "We will not be checking for outliers as all the independent variables are categorical type."
   ]
  },
  {
   "cell_type": "code",
   "execution_count": 37,
   "metadata": {},
   "outputs": [],
   "source": [
    "#Converting object data type columns to numerical\n",
    "from sklearn.preprocessing import LabelEncoder\n",
    "le = LabelEncoder()\n",
    "for i in df.columns:\n",
    "    if df[i].dtypes==object:\n",
    "        df[i] = le.fit_transform(df[i])"
   ]
  },
  {
   "cell_type": "code",
   "execution_count": 38,
   "metadata": {},
   "outputs": [
    {
     "data": {
      "text/html": [
       "<div>\n",
       "<style scoped>\n",
       "    .dataframe tbody tr th:only-of-type {\n",
       "        vertical-align: middle;\n",
       "    }\n",
       "\n",
       "    .dataframe tbody tr th {\n",
       "        vertical-align: top;\n",
       "    }\n",
       "\n",
       "    .dataframe thead th {\n",
       "        text-align: right;\n",
       "    }\n",
       "</style>\n",
       "<table border=\"1\" class=\"dataframe\">\n",
       "  <thead>\n",
       "    <tr style=\"text-align: right;\">\n",
       "      <th></th>\n",
       "      <th>Airline</th>\n",
       "      <th>Source</th>\n",
       "      <th>Destination</th>\n",
       "      <th>Total_Stops</th>\n",
       "      <th>Price</th>\n",
       "      <th>Journey_Day</th>\n",
       "      <th>Journey_Month</th>\n",
       "      <th>Journey_Year</th>\n",
       "      <th>Dep_Hr</th>\n",
       "      <th>Dep_Min</th>\n",
       "      <th>Arrival_Hr</th>\n",
       "      <th>Arrival_Min</th>\n",
       "      <th>Duration_Hr</th>\n",
       "      <th>Duration_Min</th>\n",
       "    </tr>\n",
       "  </thead>\n",
       "  <tbody>\n",
       "    <tr>\n",
       "      <th>0</th>\n",
       "      <td>3</td>\n",
       "      <td>0</td>\n",
       "      <td>5</td>\n",
       "      <td>0</td>\n",
       "      <td>3897</td>\n",
       "      <td>24</td>\n",
       "      <td>3</td>\n",
       "      <td>2019</td>\n",
       "      <td>22</td>\n",
       "      <td>20</td>\n",
       "      <td>1</td>\n",
       "      <td>10</td>\n",
       "      <td>2</td>\n",
       "      <td>50.0</td>\n",
       "    </tr>\n",
       "    <tr>\n",
       "      <th>1</th>\n",
       "      <td>1</td>\n",
       "      <td>3</td>\n",
       "      <td>0</td>\n",
       "      <td>2</td>\n",
       "      <td>7662</td>\n",
       "      <td>1</td>\n",
       "      <td>5</td>\n",
       "      <td>2019</td>\n",
       "      <td>5</td>\n",
       "      <td>50</td>\n",
       "      <td>13</td>\n",
       "      <td>15</td>\n",
       "      <td>7</td>\n",
       "      <td>25.0</td>\n",
       "    </tr>\n",
       "    <tr>\n",
       "      <th>2</th>\n",
       "      <td>4</td>\n",
       "      <td>2</td>\n",
       "      <td>1</td>\n",
       "      <td>2</td>\n",
       "      <td>13882</td>\n",
       "      <td>9</td>\n",
       "      <td>6</td>\n",
       "      <td>2019</td>\n",
       "      <td>9</td>\n",
       "      <td>25</td>\n",
       "      <td>4</td>\n",
       "      <td>25</td>\n",
       "      <td>19</td>\n",
       "      <td>0.0</td>\n",
       "    </tr>\n",
       "    <tr>\n",
       "      <th>3</th>\n",
       "      <td>3</td>\n",
       "      <td>3</td>\n",
       "      <td>0</td>\n",
       "      <td>1</td>\n",
       "      <td>6218</td>\n",
       "      <td>12</td>\n",
       "      <td>5</td>\n",
       "      <td>2019</td>\n",
       "      <td>18</td>\n",
       "      <td>5</td>\n",
       "      <td>23</td>\n",
       "      <td>30</td>\n",
       "      <td>5</td>\n",
       "      <td>25.0</td>\n",
       "    </tr>\n",
       "    <tr>\n",
       "      <th>4</th>\n",
       "      <td>3</td>\n",
       "      <td>0</td>\n",
       "      <td>5</td>\n",
       "      <td>1</td>\n",
       "      <td>13302</td>\n",
       "      <td>1</td>\n",
       "      <td>3</td>\n",
       "      <td>2019</td>\n",
       "      <td>16</td>\n",
       "      <td>50</td>\n",
       "      <td>21</td>\n",
       "      <td>35</td>\n",
       "      <td>4</td>\n",
       "      <td>45.0</td>\n",
       "    </tr>\n",
       "  </tbody>\n",
       "</table>\n",
       "</div>"
      ],
      "text/plain": [
       "   Airline  Source  Destination  Total_Stops  Price  Journey_Day  \\\n",
       "0        3       0            5            0   3897           24   \n",
       "1        1       3            0            2   7662            1   \n",
       "2        4       2            1            2  13882            9   \n",
       "3        3       3            0            1   6218           12   \n",
       "4        3       0            5            1  13302            1   \n",
       "\n",
       "   Journey_Month  Journey_Year  Dep_Hr  Dep_Min  Arrival_Hr  Arrival_Min  \\\n",
       "0              3          2019      22       20           1           10   \n",
       "1              5          2019       5       50          13           15   \n",
       "2              6          2019       9       25           4           25   \n",
       "3              5          2019      18        5          23           30   \n",
       "4              3          2019      16       50          21           35   \n",
       "\n",
       "   Duration_Hr  Duration_Min  \n",
       "0            2          50.0  \n",
       "1            7          25.0  \n",
       "2           19           0.0  \n",
       "3            5          25.0  \n",
       "4            4          45.0  "
      ]
     },
     "execution_count": 38,
     "metadata": {},
     "output_type": "execute_result"
    }
   ],
   "source": [
    "df.head()"
   ]
  },
  {
   "cell_type": "code",
   "execution_count": 39,
   "metadata": {},
   "outputs": [],
   "source": [
    "#Removing Journey year as it's same for all the rows (we have data only from 2019)\n",
    "df.drop(columns='Journey_Year',axis=1,inplace=True)"
   ]
  },
  {
   "cell_type": "code",
   "execution_count": 40,
   "metadata": {},
   "outputs": [
    {
     "data": {
      "text/plain": [
       "(10462, 13)"
      ]
     },
     "execution_count": 40,
     "metadata": {},
     "output_type": "execute_result"
    }
   ],
   "source": [
    "df.shape"
   ]
  },
  {
   "cell_type": "markdown",
   "metadata": {},
   "source": [
    "Now we have 10462 rows and 13 columns."
   ]
  },
  {
   "cell_type": "code",
   "execution_count": 41,
   "metadata": {},
   "outputs": [],
   "source": [
    "#Separating independent variables and target variable\n",
    "x=df.drop(['Price'],axis=1)\n",
    "y=df['Price']"
   ]
  },
  {
   "cell_type": "code",
   "execution_count": 42,
   "metadata": {},
   "outputs": [
    {
     "data": {
      "text/plain": [
       "((10462, 12), (10462,))"
      ]
     },
     "execution_count": 42,
     "metadata": {},
     "output_type": "execute_result"
    }
   ],
   "source": [
    "x.shape,y.shape"
   ]
  },
  {
   "cell_type": "markdown",
   "metadata": {},
   "source": [
    "# Finding the best random state:"
   ]
  },
  {
   "cell_type": "code",
   "execution_count": 43,
   "metadata": {},
   "outputs": [],
   "source": [
    "from sklearn.linear_model import LinearRegression,Lasso,Ridge\n",
    "from sklearn.metrics import r2_score\n",
    "from sklearn.model_selection import train_test_split\n",
    "from sklearn.metrics import r2_score, mean_absolute_error, mean_squared_error\n",
    "lr=LinearRegression()\n",
    "ls=Lasso()\n",
    "rd=Ridge()\n"
   ]
  },
  {
   "cell_type": "code",
   "execution_count": 44,
   "metadata": {},
   "outputs": [
    {
     "name": "stdout",
     "output_type": "stream",
     "text": [
      "At random state 0 Training accuracy is: 0.4296725064921679\n",
      "At random state 0 Testing accuracy is: 0.45741055558989274\n",
      "\n",
      "\n",
      "At random state 1 Training accuracy is: 0.43328147634958303\n",
      "At random state 1 Testing accuracy is: 0.44325716557405537\n",
      "\n",
      "\n",
      "At random state 2 Training accuracy is: 0.4577765669367396\n",
      "At random state 2 Testing accuracy is: 0.3611419574926169\n",
      "\n",
      "\n",
      "At random state 3 Training accuracy is: 0.43029834528144406\n",
      "At random state 3 Testing accuracy is: 0.45801464657633006\n",
      "\n",
      "\n",
      "At random state 4 Training accuracy is: 0.43768338412436725\n",
      "At random state 4 Testing accuracy is: 0.4254168042921721\n",
      "\n",
      "\n",
      "At random state 5 Training accuracy is: 0.4299967960701534\n",
      "At random state 5 Testing accuracy is: 0.45721334464785457\n",
      "\n",
      "\n",
      "At random state 6 Training accuracy is: 0.4374092692591095\n",
      "At random state 6 Testing accuracy is: 0.4246170617088666\n",
      "\n",
      "\n",
      "At random state 7 Training accuracy is: 0.43088413808381953\n",
      "At random state 7 Testing accuracy is: 0.4509925103989947\n",
      "\n",
      "\n",
      "At random state 8 Training accuracy is: 0.4401937782462695\n",
      "At random state 8 Testing accuracy is: 0.41650448166268383\n",
      "\n",
      "\n",
      "At random state 9 Training accuracy is: 0.429805999489253\n",
      "At random state 9 Testing accuracy is: 0.45487099645458084\n",
      "\n",
      "\n",
      "At random state 10 Training accuracy is: 0.43146573012597256\n",
      "At random state 10 Testing accuracy is: 0.4497351694523686\n",
      "\n",
      "\n",
      "At random state 11 Training accuracy is: 0.43903282672413324\n",
      "At random state 11 Testing accuracy is: 0.4208375357507411\n",
      "\n",
      "\n",
      "At random state 12 Training accuracy is: 0.4427469935613393\n",
      "At random state 12 Testing accuracy is: 0.40567760100177575\n",
      "\n",
      "\n",
      "At random state 13 Training accuracy is: 0.44218779070558056\n",
      "At random state 13 Testing accuracy is: 0.4079096958324385\n",
      "\n",
      "\n",
      "At random state 14 Training accuracy is: 0.4332576772583814\n",
      "At random state 14 Testing accuracy is: 0.4424884651657853\n",
      "\n",
      "\n",
      "At random state 15 Training accuracy is: 0.433823876660938\n",
      "At random state 15 Testing accuracy is: 0.4397546074029184\n",
      "\n",
      "\n",
      "At random state 16 Training accuracy is: 0.4281620512264801\n",
      "At random state 16 Testing accuracy is: 0.4670607451146077\n",
      "\n",
      "\n",
      "At random state 17 Training accuracy is: 0.4480580417993808\n",
      "At random state 17 Testing accuracy is: 0.3929790117818224\n",
      "\n",
      "\n",
      "At random state 18 Training accuracy is: 0.43189072020218755\n",
      "At random state 18 Testing accuracy is: 0.4486914036167533\n",
      "\n",
      "\n",
      "At random state 19 Training accuracy is: 0.4390545347827798\n",
      "At random state 19 Testing accuracy is: 0.420937547827011\n",
      "\n",
      "\n",
      "At random state 20 Training accuracy is: 0.43885508100027704\n",
      "At random state 20 Testing accuracy is: 0.4216520982297084\n",
      "\n",
      "\n",
      "At random state 21 Training accuracy is: 0.43758270954993206\n",
      "At random state 21 Testing accuracy is: 0.42541872579992357\n",
      "\n",
      "\n",
      "At random state 22 Training accuracy is: 0.4313267387811902\n",
      "At random state 22 Testing accuracy is: 0.4503785923770427\n",
      "\n",
      "\n",
      "At random state 23 Training accuracy is: 0.4392604237817055\n",
      "At random state 23 Testing accuracy is: 0.41774395122143837\n",
      "\n",
      "\n",
      "At random state 24 Training accuracy is: 0.4425661705474768\n",
      "At random state 24 Testing accuracy is: 0.40709915330254054\n",
      "\n",
      "\n",
      "At random state 25 Training accuracy is: 0.43161876609043714\n",
      "At random state 25 Testing accuracy is: 0.45024416284210966\n",
      "\n",
      "\n",
      "At random state 26 Training accuracy is: 0.4341255134352592\n",
      "At random state 26 Testing accuracy is: 0.4391669692381206\n",
      "\n",
      "\n",
      "At random state 27 Training accuracy is: 0.4452297921559706\n",
      "At random state 27 Testing accuracy is: 0.39887622775899145\n",
      "\n",
      "\n",
      "At random state 28 Training accuracy is: 0.4272941178943851\n",
      "At random state 28 Testing accuracy is: 0.4708249727586169\n",
      "\n",
      "\n",
      "At random state 29 Training accuracy is: 0.42756972790087644\n",
      "At random state 29 Testing accuracy is: 0.46755444022030723\n",
      "\n",
      "\n",
      "At random state 30 Training accuracy is: 0.4457824576756809\n",
      "At random state 30 Testing accuracy is: 0.39807933055639355\n",
      "\n",
      "\n",
      "At random state 31 Training accuracy is: 0.4464995587486319\n",
      "At random state 31 Testing accuracy is: 0.38938982791030985\n",
      "\n",
      "\n",
      "At random state 32 Training accuracy is: 0.44147265418891946\n",
      "At random state 32 Testing accuracy is: 0.4087556419651285\n",
      "\n",
      "\n",
      "At random state 33 Training accuracy is: 0.42558258484284994\n",
      "At random state 33 Testing accuracy is: 0.47752299942500975\n",
      "\n",
      "\n",
      "At random state 34 Training accuracy is: 0.4317836053775581\n",
      "At random state 34 Testing accuracy is: 0.44877398239131205\n",
      "\n",
      "\n",
      "At random state 35 Training accuracy is: 0.4371464111107427\n",
      "At random state 35 Testing accuracy is: 0.42766656493933974\n",
      "\n",
      "\n",
      "At random state 36 Training accuracy is: 0.4263709574777351\n",
      "At random state 36 Testing accuracy is: 0.47305352067381234\n",
      "\n",
      "\n",
      "At random state 37 Training accuracy is: 0.42797569156699367\n",
      "At random state 37 Testing accuracy is: 0.4653555310833082\n",
      "\n",
      "\n",
      "At random state 38 Training accuracy is: 0.4284451999905404\n",
      "At random state 38 Testing accuracy is: 0.46232613545997847\n",
      "\n",
      "\n",
      "At random state 39 Training accuracy is: 0.43817379803968415\n",
      "At random state 39 Testing accuracy is: 0.42300873057889055\n",
      "\n",
      "\n",
      "At random state 40 Training accuracy is: 0.44008246359950653\n",
      "At random state 40 Testing accuracy is: 0.4140359985357235\n",
      "\n",
      "\n",
      "At random state 41 Training accuracy is: 0.42470673112418234\n",
      "At random state 41 Testing accuracy is: 0.4822553971242646\n",
      "\n",
      "\n",
      "At random state 42 Training accuracy is: 0.43235626073415456\n",
      "At random state 42 Testing accuracy is: 0.4467405017617485\n",
      "\n",
      "\n",
      "At random state 43 Training accuracy is: 0.4499259877722458\n",
      "At random state 43 Testing accuracy is: 0.3813664218485191\n",
      "\n",
      "\n",
      "At random state 44 Training accuracy is: 0.4414840912403911\n",
      "At random state 44 Testing accuracy is: 0.4087603249661135\n",
      "\n",
      "\n",
      "At random state 45 Training accuracy is: 0.4347031394885754\n",
      "At random state 45 Testing accuracy is: 0.4369587443591697\n",
      "\n",
      "\n",
      "At random state 46 Training accuracy is: 0.4404785372665402\n",
      "At random state 46 Testing accuracy is: 0.4135399253434451\n",
      "\n",
      "\n",
      "At random state 47 Training accuracy is: 0.43097201476920843\n",
      "At random state 47 Testing accuracy is: 0.4532401217435452\n",
      "\n",
      "\n",
      "At random state 48 Training accuracy is: 0.4272773502886389\n",
      "At random state 48 Testing accuracy is: 0.4710583842574346\n",
      "\n",
      "\n",
      "At random state 49 Training accuracy is: 0.43441623085614134\n",
      "At random state 49 Testing accuracy is: 0.43837170757574107\n",
      "\n",
      "\n",
      "At random state 50 Training accuracy is: 0.42982783751917597\n",
      "At random state 50 Testing accuracy is: 0.45757062818928973\n",
      "\n",
      "\n",
      "At random state 51 Training accuracy is: 0.431113124738142\n",
      "At random state 51 Testing accuracy is: 0.4517940705375929\n",
      "\n",
      "\n",
      "At random state 52 Training accuracy is: 0.43244741839406253\n",
      "At random state 52 Testing accuracy is: 0.44531001499917966\n",
      "\n",
      "\n",
      "At random state 53 Training accuracy is: 0.4274940782712523\n",
      "At random state 53 Testing accuracy is: 0.47163567080727653\n",
      "\n",
      "\n",
      "At random state 54 Training accuracy is: 0.43223410526069916\n",
      "At random state 54 Testing accuracy is: 0.44728507991788613\n",
      "\n",
      "\n",
      "At random state 55 Training accuracy is: 0.43695677223035856\n",
      "At random state 55 Testing accuracy is: 0.4285086180410572\n",
      "\n",
      "\n",
      "At random state 56 Training accuracy is: 0.4308075600507215\n",
      "At random state 56 Testing accuracy is: 0.4507661212415913\n",
      "\n",
      "\n",
      "At random state 57 Training accuracy is: 0.4384228549593874\n",
      "At random state 57 Testing accuracy is: 0.42319065547847823\n",
      "\n",
      "\n",
      "At random state 58 Training accuracy is: 0.44041541165239906\n",
      "At random state 58 Testing accuracy is: 0.41492662496814015\n",
      "\n",
      "\n",
      "At random state 59 Training accuracy is: 0.44282329121663755\n",
      "At random state 59 Testing accuracy is: 0.4090968019989749\n",
      "\n",
      "\n",
      "At random state 60 Training accuracy is: 0.43973875471975254\n",
      "At random state 60 Testing accuracy is: 0.4177451553842346\n",
      "\n",
      "\n",
      "At random state 61 Training accuracy is: 0.45044653665386214\n",
      "At random state 61 Testing accuracy is: 0.38699274462344657\n",
      "\n",
      "\n",
      "At random state 62 Training accuracy is: 0.4397809815809336\n",
      "At random state 62 Testing accuracy is: 0.41699400230372585\n",
      "\n",
      "\n",
      "At random state 63 Training accuracy is: 0.45452346096979424\n",
      "At random state 63 Testing accuracy is: 0.3694723618826705\n",
      "\n",
      "\n",
      "At random state 64 Training accuracy is: 0.4357114801695172\n",
      "At random state 64 Testing accuracy is: 0.43265626942715796\n",
      "\n",
      "\n",
      "At random state 65 Training accuracy is: 0.4440306572830909\n",
      "At random state 65 Testing accuracy is: 0.4028454253379343\n",
      "\n",
      "\n",
      "At random state 66 Training accuracy is: 0.44999893274972513\n",
      "At random state 66 Testing accuracy is: 0.3799864795127448\n",
      "\n",
      "\n",
      "At random state 67 Training accuracy is: 0.42927173138476116\n",
      "At random state 67 Testing accuracy is: 0.4595645291769225\n",
      "\n",
      "\n",
      "At random state 68 Training accuracy is: 0.4510177331585198\n",
      "At random state 68 Testing accuracy is: 0.3803075707425735\n",
      "\n",
      "\n",
      "At random state 69 Training accuracy is: 0.43190264148504076\n",
      "At random state 69 Testing accuracy is: 0.44901468371255715\n",
      "\n",
      "\n",
      "At random state 70 Training accuracy is: 0.44147224837423815\n",
      "At random state 70 Testing accuracy is: 0.4138221883182778\n",
      "\n",
      "\n",
      "At random state 71 Training accuracy is: 0.4357511582716199\n",
      "At random state 71 Testing accuracy is: 0.4322138822095448\n",
      "\n",
      "\n",
      "At random state 72 Training accuracy is: 0.4418844102512842\n",
      "At random state 72 Testing accuracy is: 0.40867064519183394\n",
      "\n",
      "\n",
      "At random state 73 Training accuracy is: 0.4401025059452204\n",
      "At random state 73 Testing accuracy is: 0.41813886921768983\n",
      "\n",
      "\n",
      "At random state 74 Training accuracy is: 0.433609557188241\n",
      "At random state 74 Testing accuracy is: 0.4406529441321375\n",
      "\n",
      "\n",
      "At random state 75 Training accuracy is: 0.4259301762230693\n",
      "At random state 75 Testing accuracy is: 0.47477696334024533\n",
      "\n",
      "\n",
      "At random state 76 Training accuracy is: 0.4326342115258792\n",
      "At random state 76 Testing accuracy is: 0.44639774760638196\n",
      "\n",
      "\n",
      "At random state 77 Training accuracy is: 0.4270579074387981\n",
      "At random state 77 Testing accuracy is: 0.46842689466257315\n",
      "\n",
      "\n",
      "At random state 78 Training accuracy is: 0.4345192813954222\n",
      "At random state 78 Testing accuracy is: 0.43674827907827196\n",
      "\n",
      "\n",
      "At random state 79 Training accuracy is: 0.43398651217436424\n",
      "At random state 79 Testing accuracy is: 0.4397359584977033\n",
      "\n",
      "\n",
      "At random state 80 Training accuracy is: 0.42576619343545585\n",
      "At random state 80 Testing accuracy is: 0.476450721991888\n",
      "\n",
      "\n",
      "At random state 81 Training accuracy is: 0.4290449376347182\n",
      "At random state 81 Testing accuracy is: 0.46306976928934374\n",
      "\n",
      "\n",
      "At random state 82 Training accuracy is: 0.44658785505729093\n",
      "At random state 82 Testing accuracy is: 0.396137318280411\n",
      "\n",
      "\n",
      "At random state 83 Training accuracy is: 0.4313154000489784\n",
      "At random state 83 Testing accuracy is: 0.45106919437800297\n",
      "\n",
      "\n",
      "At random state 84 Training accuracy is: 0.43854199149338946\n",
      "At random state 84 Testing accuracy is: 0.4216387143487712\n",
      "\n",
      "\n",
      "At random state 85 Training accuracy is: 0.43302002112918625\n",
      "At random state 85 Testing accuracy is: 0.443654533444776\n",
      "\n",
      "\n",
      "At random state 86 Training accuracy is: 0.4370817369452834\n",
      "At random state 86 Testing accuracy is: 0.42763448682072536\n",
      "\n",
      "\n",
      "At random state 87 Training accuracy is: 0.4366261334466751\n",
      "At random state 87 Testing accuracy is: 0.42796674089177644\n",
      "\n",
      "\n",
      "At random state 88 Training accuracy is: 0.4312527640627043\n",
      "At random state 88 Testing accuracy is: 0.45149804441261243\n",
      "\n",
      "\n",
      "At random state 89 Training accuracy is: 0.43137253492603145\n",
      "At random state 89 Testing accuracy is: 0.449776961860364\n",
      "\n",
      "\n",
      "At random state 90 Training accuracy is: 0.43425402674080027\n",
      "At random state 90 Testing accuracy is: 0.4379845653690504\n",
      "\n",
      "\n",
      "At random state 91 Training accuracy is: 0.43346186845963697\n",
      "At random state 91 Testing accuracy is: 0.441715519505008\n",
      "\n",
      "\n",
      "At random state 92 Training accuracy is: 0.4340766364989065\n",
      "At random state 92 Testing accuracy is: 0.4394815681303783\n",
      "\n",
      "\n",
      "At random state 93 Training accuracy is: 0.43355858496813726\n",
      "At random state 93 Testing accuracy is: 0.43986514090419715\n",
      "\n",
      "\n",
      "At random state 94 Training accuracy is: 0.4371286669405744\n",
      "At random state 94 Testing accuracy is: 0.42708570882721786\n",
      "\n",
      "\n",
      "At random state 95 Training accuracy is: 0.4321108099495221\n",
      "At random state 95 Testing accuracy is: 0.4463748239422669\n",
      "\n",
      "\n",
      "At random state 96 Training accuracy is: 0.43159112685179535\n",
      "At random state 96 Testing accuracy is: 0.4488430064136212\n",
      "\n",
      "\n",
      "At random state 97 Training accuracy is: 0.4306767460235086\n",
      "At random state 97 Testing accuracy is: 0.45347348338355964\n",
      "\n",
      "\n",
      "At random state 98 Training accuracy is: 0.4337914438739515\n",
      "At random state 98 Testing accuracy is: 0.4408749447099767\n",
      "\n",
      "\n",
      "At random state 99 Training accuracy is: 0.43605726250994115\n",
      "At random state 99 Testing accuracy is: 0.43174932162978474\n",
      "\n",
      "\n"
     ]
    }
   ],
   "source": [
    "for i in range(0,100):\n",
    "    x_train,x_test,y_train,y_test=train_test_split(x,y,test_size=.20,random_state=i)\n",
    "    lr.fit(x_train,y_train)\n",
    "    pred_train=lr.predict(x_train)\n",
    "    pred_test=lr.predict(x_test)\n",
    "    print('At random state',i,'Training accuracy is:', r2_score(y_train,pred_train))\n",
    "    print('At random state',i,'Testing accuracy is:',r2_score(y_test,pred_test))\n",
    "    print('\\n')"
   ]
  },
  {
   "cell_type": "code",
   "execution_count": 45,
   "metadata": {},
   "outputs": [],
   "source": [
    "#Doing train test split at random state 75 as we got best result on it.\n",
    "x_train,x_test,y_train,y_test=train_test_split(x,y,test_size=.20,random_state=75)"
   ]
  },
  {
   "cell_type": "code",
   "execution_count": 46,
   "metadata": {},
   "outputs": [
    {
     "name": "stdout",
     "output_type": "stream",
     "text": [
      "Training accuracy is: 0.4259301762230693\n",
      "Testing accuracy is: 0.47477696334024533\n",
      "mean absolute error: 2396.0890965555577\n",
      "Root mean squared error: 3264.805684080354\n"
     ]
    }
   ],
   "source": [
    "lr.fit(x_train,y_train)\n",
    "pred_train=lr.predict(x_train)\n",
    "pred_test=lr.predict(x_test)\n",
    "print('Training accuracy is:', r2_score(y_train,pred_train))\n",
    "print('Testing accuracy is:',r2_score(y_test,pred_test))\n",
    "print('mean absolute error:',mean_absolute_error(y_test,pred_test))\n",
    "print('Root mean squared error:', np.sqrt(mean_squared_error(y_test,pred_test)))"
   ]
  },
  {
   "cell_type": "markdown",
   "metadata": {},
   "source": [
    "We are getting low accuracy and RMSE is high. Lets try removing skewness from the price column and check the results."
   ]
  },
  {
   "cell_type": "code",
   "execution_count": 47,
   "metadata": {},
   "outputs": [
    {
     "data": {
      "text/plain": [
       "1.8574899082173875"
      ]
     },
     "execution_count": 47,
     "metadata": {},
     "output_type": "execute_result"
    }
   ],
   "source": [
    "#Checkinh skewness of target variable\n",
    "y.skew()"
   ]
  },
  {
   "cell_type": "code",
   "execution_count": 48,
   "metadata": {},
   "outputs": [],
   "source": [
    "#Removing skewness using log transformation (keeping +/- 0.5 as the range for skewness)\n",
    "y=np.log1p(y)"
   ]
  },
  {
   "cell_type": "code",
   "execution_count": 49,
   "metadata": {},
   "outputs": [
    {
     "data": {
      "text/plain": [
       "-0.22810645508629535"
      ]
     },
     "execution_count": 49,
     "metadata": {},
     "output_type": "execute_result"
    }
   ],
   "source": [
    "y.skew()"
   ]
  },
  {
   "cell_type": "code",
   "execution_count": 50,
   "metadata": {},
   "outputs": [
    {
     "name": "stdout",
     "output_type": "stream",
     "text": [
      "Best r2_score is 0.5837766067032991 on random state 90\n"
     ]
    }
   ],
   "source": [
    "#Let try to find the best random state with the new 'y'.\n",
    "lr=LinearRegression()\n",
    "maxr2=0\n",
    "maxrs=0\n",
    "for i in range(1,200):\n",
    "    x_train,x_test,y_train,y_test= train_test_split(x,y,test_size=.20,random_state=i)\n",
    "    lr.fit(x_train,y_train)\n",
    "    predrf=lr.predict(x_test)\n",
    "    r2=r2_score(y_test,predrf)\n",
    "    if r2>maxr2:\n",
    "        maxr2=r2\n",
    "        maxrs=i\n",
    "print('Best r2_score is',maxr2,'on random state', maxrs)"
   ]
  },
  {
   "cell_type": "markdown",
   "metadata": {},
   "source": [
    "R2_score have improved from the previous one."
   ]
  },
  {
   "cell_type": "code",
   "execution_count": 51,
   "metadata": {},
   "outputs": [],
   "source": [
    "#Doing train test split at random state 90 as we got best result on it.\n",
    "x_train,x_test,y_train,y_test=train_test_split(x,y,test_size=.20,random_state=90)"
   ]
  },
  {
   "cell_type": "code",
   "execution_count": 52,
   "metadata": {},
   "outputs": [
    {
     "data": {
      "text/plain": [
       "((8369, 12), (2093, 12), (8369,), (2093,))"
      ]
     },
     "execution_count": 52,
     "metadata": {},
     "output_type": "execute_result"
    }
   ],
   "source": [
    "x_train.shape,x_test.shape,y_train.shape,y_test.shape"
   ]
  },
  {
   "cell_type": "code",
   "execution_count": 53,
   "metadata": {},
   "outputs": [],
   "source": [
    "from sklearn.svm import SVR\n",
    "from sklearn.neighbors import KNeighborsRegressor\n",
    "from sklearn.ensemble import RandomForestRegressor\n",
    "from sklearn.ensemble import AdaBoostRegressor\n",
    "from sklearn.model_selection import cross_val_score"
   ]
  },
  {
   "cell_type": "code",
   "execution_count": 54,
   "metadata": {},
   "outputs": [],
   "source": [
    "ls=Lasso()\n",
    "rd=Ridge()\n",
    "svr=SVR()\n",
    "knn=KNeighborsRegressor()\n",
    "rf=RandomForestRegressor()\n",
    "ada=AdaBoostRegressor()"
   ]
  },
  {
   "cell_type": "code",
   "execution_count": 55,
   "metadata": {},
   "outputs": [
    {
     "name": "stdout",
     "output_type": "stream",
     "text": [
      "\n",
      "\n",
      "LinearRegression()\n",
      "score: 0.5373208485442913\n",
      "mean absolute error: 0.27225132536084884\n",
      "Root mean squared error: 0.34116148524948164\n",
      "r2_score: 0.5837766067032991\n",
      "Cross Validation Score: 0.5456787239364245\n",
      "\n",
      "\n",
      "Lasso()\n",
      "score: 0.28906572203676717\n",
      "mean absolute error: 0.3512915647841734\n",
      "Root mean squared error: 0.43910631739671324\n",
      "r2_score: 0.31048159472622316\n",
      "Cross Validation Score: 0.2985330976469037\n",
      "\n",
      "\n",
      "Ridge()\n",
      "score: 0.5373207886057019\n",
      "mean absolute error: 0.27224634333479764\n",
      "Root mean squared error: 0.34115878882732653\n",
      "r2_score: 0.5837831860482281\n",
      "Cross Validation Score: 0.5456787061304889\n",
      "\n",
      "\n",
      "SVR()\n",
      "score: 0.6728468704076351\n",
      "mean absolute error: 0.2205823593788584\n",
      "Root mean squared error: 0.29054300678064965\n",
      "r2_score: 0.6981248624782175\n",
      "Cross Validation Score: 0.6664482757026103\n",
      "\n",
      "\n",
      "KNeighborsRegressor()\n",
      "score: 0.8285325292390934\n",
      "mean absolute error: 0.18484284526626163\n",
      "Root mean squared error: 0.2576863157422176\n",
      "r2_score: 0.7625406880262411\n",
      "Cross Validation Score: 0.7322700825261768\n",
      "\n",
      "\n",
      "RandomForestRegressor()\n",
      "score: 0.9628358501270609\n",
      "mean absolute error: 0.12339205024862558\n",
      "Root mean squared error: 0.18753777959649792\n",
      "r2_score: 0.8742279811442665\n",
      "Cross Validation Score: 0.8618305851612785\n",
      "\n",
      "\n",
      "AdaBoostRegressor()\n",
      "score: 0.6758341551609086\n",
      "mean absolute error: 0.23760887040279838\n",
      "Root mean squared error: 0.2878066125017663\n",
      "r2_score: 0.703784330631344\n",
      "Cross Validation Score: 0.6740975168720988\n"
     ]
    }
   ],
   "source": [
    "#Training different models\n",
    "model=[lr,ls,rd,svr,knn,rf,ada]\n",
    "\n",
    "for i in model:\n",
    "    print('\\n')\n",
    "    print(i)\n",
    "    i.fit(x_train,y_train)\n",
    "    pred=i.predict(x_test)\n",
    "    score=i.score(x_train,y_train)\n",
    "    print('score:',score)\n",
    "    print('mean absolute error:',mean_absolute_error(y_test,pred))\n",
    "    print('Root mean squared error:', np.sqrt(mean_squared_error(y_test,pred)))\n",
    "    print('r2_score:',r2_score(y_test,pred))\n",
    "    scores=cross_val_score(i, x, y, cv=5)\n",
    "    print('Cross Validation Score:',scores.mean())"
   ]
  },
  {
   "cell_type": "markdown",
   "metadata": {},
   "source": [
    "The best model performing is Random forest with r2 score of 87%, cross validation score of 86%, MAE- 0.12 and RMSE- 0.18."
   ]
  },
  {
   "cell_type": "markdown",
   "metadata": {},
   "source": [
    "# Hyper Parameter tuning:"
   ]
  },
  {
   "cell_type": "code",
   "execution_count": 56,
   "metadata": {},
   "outputs": [
    {
     "name": "stdout",
     "output_type": "stream",
     "text": [
      "{'max_features': 'auto', 'n_estimators': 736}\n"
     ]
    }
   ],
   "source": [
    "from sklearn.model_selection import GridSearchCV\n",
    "\n",
    "parameters={'n_estimators':[int(x) for x in np.linspace(start=100,stop=800,num=12)],'max_features':['auto','sqrt']}\n",
    "clf=GridSearchCV(rf,parameters)\n",
    "clf.fit(x_train,y_train)\n",
    "print(clf.best_params_)"
   ]
  },
  {
   "cell_type": "code",
   "execution_count": 57,
   "metadata": {},
   "outputs": [
    {
     "name": "stdout",
     "output_type": "stream",
     "text": [
      "mean absolute error: 0.12222431548802401\n",
      "Root mean squared error: 0.1860352285058062\n",
      "R2 score is: 0.876235276270734\n",
      "Cross Val Score is: 0.8629229538771188\n"
     ]
    }
   ],
   "source": [
    "rf=RandomForestRegressor(n_estimators=736,max_features='auto')\n",
    "rf.fit(x_train,y_train)\n",
    "pred_rf=rf.predict(x_test)\n",
    "print('mean absolute error:',mean_absolute_error(y_test,pred_rf))\n",
    "print('Root mean squared error:', np.sqrt(mean_squared_error(y_test,pred_rf)))\n",
    "print('R2 score is:',r2_score(y_test,pred_rf))\n",
    "cv_score=cross_val_score(rf,x,y,cv=5)\n",
    "cv_mean=cv_score.mean()\n",
    "print('Cross Val Score is:',cv_mean)"
   ]
  },
  {
   "cell_type": "code",
   "execution_count": 58,
   "metadata": {},
   "outputs": [
    {
     "data": {
      "image/png": "[encoded data removed]",
      "text/plain": [
       "<Figure size 576x432 with 1 Axes>"
      ]
     },
     "metadata": {
      "needs_background": "light"
     },
     "output_type": "display_data"
    }
   ],
   "source": [
    "#ploting our model\n",
    "plt.figure(figsize=(8,6))\n",
    "plt.scatter(x=y_test, y=pred_rf, color='r')\n",
    "plt.plot(y_test,y_test,color='b')\n",
    "plt.xlabel('Actual prices')\n",
    "plt.ylabel('Predicted prices')\n",
    "plt.title('Random Forest Regressor')\n",
    "plt.show()"
   ]
  },
  {
   "cell_type": "markdown",
   "metadata": {},
   "source": [
    "we have our final model with r2 score of 87%, cross validation score of 86%, MAE- 0.12 and RMSE- 0.18. Our model shows a good fit."
   ]
  },
  {
   "cell_type": "code",
   "execution_count": 59,
   "metadata": {},
   "outputs": [
    {
     "data": {
      "text/plain": [
       "['Flight_price_prediction_rf.obj']"
      ]
     },
     "execution_count": 59,
     "metadata": {},
     "output_type": "execute_result"
    }
   ],
   "source": [
    "#Saving our model\n",
    "import joblib\n",
    "joblib.dump(rf,'Flight_price_prediction_rf.obj')"
   ]
  },
  {
   "cell_type": "code",
   "execution_count": 60,
   "metadata": {},
   "outputs": [],
   "source": [
    "#importing Test data\n",
    "df_test=pd.read_excel('Flight_Test_set.xlsx')"
   ]
  },
  {
   "cell_type": "code",
   "execution_count": 62,
   "metadata": {},
   "outputs": [
    {
     "data": {
      "text/plain": [
       "(2671, 10)"
      ]
     },
     "execution_count": 62,
     "metadata": {},
     "output_type": "execute_result"
    }
   ],
   "source": [
    "#cheking shape of the dataset\n",
    "df_test.shape"
   ]
  },
  {
   "cell_type": "markdown",
   "metadata": {},
   "source": [
    "we have 2671 rows and 10 columns."
   ]
  },
  {
   "cell_type": "code",
   "execution_count": 64,
   "metadata": {},
   "outputs": [
    {
     "data": {
      "text/plain": [
       "Index(['Airline', 'Date_of_Journey', 'Source', 'Destination', 'Route',\n",
       "       'Dep_Time', 'Arrival_Time', 'Duration', 'Total_Stops',\n",
       "       'Additional_Info'],\n",
       "      dtype='object')"
      ]
     },
     "execution_count": 64,
     "metadata": {},
     "output_type": "execute_result"
    }
   ],
   "source": [
    "#cheking column names\n",
    "df_test.columns"
   ]
  },
  {
   "cell_type": "code",
   "execution_count": 65,
   "metadata": {},
   "outputs": [
    {
     "data": {
      "text/plain": [
       "Airline            object\n",
       "Date_of_Journey    object\n",
       "Source             object\n",
       "Destination        object\n",
       "Route              object\n",
       "Dep_Time           object\n",
       "Arrival_Time       object\n",
       "Duration           object\n",
       "Total_Stops        object\n",
       "Additional_Info    object\n",
       "dtype: object"
      ]
     },
     "execution_count": 65,
     "metadata": {},
     "output_type": "execute_result"
    }
   ],
   "source": [
    "#Checking data type\n",
    "df_test.dtypes"
   ]
  },
  {
   "cell_type": "code",
   "execution_count": 66,
   "metadata": {},
   "outputs": [
    {
     "data": {
      "text/plain": [
       "Airline            0\n",
       "Date_of_Journey    0\n",
       "Source             0\n",
       "Destination        0\n",
       "Route              0\n",
       "Dep_Time           0\n",
       "Arrival_Time       0\n",
       "Duration           0\n",
       "Total_Stops        0\n",
       "Additional_Info    0\n",
       "dtype: int64"
      ]
     },
     "execution_count": 66,
     "metadata": {},
     "output_type": "execute_result"
    }
   ],
   "source": [
    "#Checking null values\n",
    "df_test.isnull().sum()"
   ]
  },
  {
   "cell_type": "markdown",
   "metadata": {},
   "source": [
    "No null values."
   ]
  },
  {
   "cell_type": "code",
   "execution_count": 67,
   "metadata": {},
   "outputs": [
    {
     "data": {
      "text/html": [
       "<div>\n",
       "<style scoped>\n",
       "    .dataframe tbody tr th:only-of-type {\n",
       "        vertical-align: middle;\n",
       "    }\n",
       "\n",
       "    .dataframe tbody tr th {\n",
       "        vertical-align: top;\n",
       "    }\n",
       "\n",
       "    .dataframe thead th {\n",
       "        text-align: right;\n",
       "    }\n",
       "</style>\n",
       "<table border=\"1\" class=\"dataframe\">\n",
       "  <thead>\n",
       "    <tr style=\"text-align: right;\">\n",
       "      <th></th>\n",
       "      <th>Airline</th>\n",
       "      <th>Date_of_Journey</th>\n",
       "      <th>Source</th>\n",
       "      <th>Destination</th>\n",
       "      <th>Route</th>\n",
       "      <th>Dep_Time</th>\n",
       "      <th>Arrival_Time</th>\n",
       "      <th>Duration</th>\n",
       "      <th>Total_Stops</th>\n",
       "      <th>Additional_Info</th>\n",
       "    </tr>\n",
       "  </thead>\n",
       "  <tbody>\n",
       "    <tr>\n",
       "      <th>294</th>\n",
       "      <td>Jet Airways</td>\n",
       "      <td>12/06/2019</td>\n",
       "      <td>Delhi</td>\n",
       "      <td>Cochin</td>\n",
       "      <td>DEL → JAI → BOM → COK</td>\n",
       "      <td>05:30</td>\n",
       "      <td>04:25 13 Jun</td>\n",
       "      <td>22h 55m</td>\n",
       "      <td>2 stops</td>\n",
       "      <td>No info</td>\n",
       "    </tr>\n",
       "    <tr>\n",
       "      <th>794</th>\n",
       "      <td>Jet Airways</td>\n",
       "      <td>12/06/2019</td>\n",
       "      <td>Delhi</td>\n",
       "      <td>Cochin</td>\n",
       "      <td>DEL → JAI → BOM → COK</td>\n",
       "      <td>05:30</td>\n",
       "      <td>04:25 13 Jun</td>\n",
       "      <td>22h 55m</td>\n",
       "      <td>2 stops</td>\n",
       "      <td>In-flight meal not included</td>\n",
       "    </tr>\n",
       "    <tr>\n",
       "      <th>909</th>\n",
       "      <td>IndiGo</td>\n",
       "      <td>24/03/2019</td>\n",
       "      <td>Banglore</td>\n",
       "      <td>New Delhi</td>\n",
       "      <td>BLR → DEL</td>\n",
       "      <td>20:00</td>\n",
       "      <td>22:55</td>\n",
       "      <td>2h 55m</td>\n",
       "      <td>non-stop</td>\n",
       "      <td>No info</td>\n",
       "    </tr>\n",
       "    <tr>\n",
       "      <th>974</th>\n",
       "      <td>Air India</td>\n",
       "      <td>12/06/2019</td>\n",
       "      <td>Kolkata</td>\n",
       "      <td>Banglore</td>\n",
       "      <td>CCU → DEL → AMD → BLR</td>\n",
       "      <td>07:00</td>\n",
       "      <td>05:25 13 Jun</td>\n",
       "      <td>22h 25m</td>\n",
       "      <td>2 stops</td>\n",
       "      <td>No info</td>\n",
       "    </tr>\n",
       "    <tr>\n",
       "      <th>1011</th>\n",
       "      <td>Jet Airways</td>\n",
       "      <td>9/05/2019</td>\n",
       "      <td>Delhi</td>\n",
       "      <td>Cochin</td>\n",
       "      <td>DEL → JAI → BOM → COK</td>\n",
       "      <td>05:30</td>\n",
       "      <td>04:25 10 May</td>\n",
       "      <td>22h 55m</td>\n",
       "      <td>2 stops</td>\n",
       "      <td>No info</td>\n",
       "    </tr>\n",
       "    <tr>\n",
       "      <th>1033</th>\n",
       "      <td>Multiple carriers</td>\n",
       "      <td>15/05/2019</td>\n",
       "      <td>Delhi</td>\n",
       "      <td>Cochin</td>\n",
       "      <td>DEL → BOM → COK</td>\n",
       "      <td>07:30</td>\n",
       "      <td>19:15</td>\n",
       "      <td>11h 45m</td>\n",
       "      <td>1 stop</td>\n",
       "      <td>No info</td>\n",
       "    </tr>\n",
       "    <tr>\n",
       "      <th>1044</th>\n",
       "      <td>GoAir</td>\n",
       "      <td>24/03/2019</td>\n",
       "      <td>Banglore</td>\n",
       "      <td>New Delhi</td>\n",
       "      <td>BLR → DEL</td>\n",
       "      <td>20:55</td>\n",
       "      <td>23:50</td>\n",
       "      <td>2h 55m</td>\n",
       "      <td>non-stop</td>\n",
       "      <td>No info</td>\n",
       "    </tr>\n",
       "    <tr>\n",
       "      <th>1233</th>\n",
       "      <td>Jet Airways</td>\n",
       "      <td>6/06/2019</td>\n",
       "      <td>Delhi</td>\n",
       "      <td>Cochin</td>\n",
       "      <td>DEL → JAI → BOM → COK</td>\n",
       "      <td>05:30</td>\n",
       "      <td>04:25 07 Jun</td>\n",
       "      <td>22h 55m</td>\n",
       "      <td>2 stops</td>\n",
       "      <td>No info</td>\n",
       "    </tr>\n",
       "    <tr>\n",
       "      <th>1504</th>\n",
       "      <td>Air India</td>\n",
       "      <td>15/06/2019</td>\n",
       "      <td>Delhi</td>\n",
       "      <td>Cochin</td>\n",
       "      <td>DEL → GOI → BOM → COK</td>\n",
       "      <td>22:00</td>\n",
       "      <td>19:15 16 Jun</td>\n",
       "      <td>21h 15m</td>\n",
       "      <td>2 stops</td>\n",
       "      <td>No info</td>\n",
       "    </tr>\n",
       "    <tr>\n",
       "      <th>1537</th>\n",
       "      <td>Jet Airways</td>\n",
       "      <td>6/06/2019</td>\n",
       "      <td>Delhi</td>\n",
       "      <td>Cochin</td>\n",
       "      <td>DEL → NAG → BOM → COK</td>\n",
       "      <td>06:45</td>\n",
       "      <td>04:25 07 Jun</td>\n",
       "      <td>21h 40m</td>\n",
       "      <td>2 stops</td>\n",
       "      <td>In-flight meal not included</td>\n",
       "    </tr>\n",
       "    <tr>\n",
       "      <th>1752</th>\n",
       "      <td>Multiple carriers</td>\n",
       "      <td>21/05/2019</td>\n",
       "      <td>Delhi</td>\n",
       "      <td>Cochin</td>\n",
       "      <td>DEL → BOM → COK</td>\n",
       "      <td>07:30</td>\n",
       "      <td>19:15</td>\n",
       "      <td>11h 45m</td>\n",
       "      <td>1 stop</td>\n",
       "      <td>No info</td>\n",
       "    </tr>\n",
       "    <tr>\n",
       "      <th>1753</th>\n",
       "      <td>Jet Airways</td>\n",
       "      <td>18/05/2019</td>\n",
       "      <td>Delhi</td>\n",
       "      <td>Cochin</td>\n",
       "      <td>DEL → AMD → BOM → COK</td>\n",
       "      <td>23:05</td>\n",
       "      <td>19:00 19 May</td>\n",
       "      <td>19h 55m</td>\n",
       "      <td>2 stops</td>\n",
       "      <td>No info</td>\n",
       "    </tr>\n",
       "    <tr>\n",
       "      <th>1783</th>\n",
       "      <td>Air India</td>\n",
       "      <td>12/03/2019</td>\n",
       "      <td>Banglore</td>\n",
       "      <td>New Delhi</td>\n",
       "      <td>BLR → CCU → GAU → DEL</td>\n",
       "      <td>05:50</td>\n",
       "      <td>22:10</td>\n",
       "      <td>16h 20m</td>\n",
       "      <td>2 stops</td>\n",
       "      <td>No info</td>\n",
       "    </tr>\n",
       "    <tr>\n",
       "      <th>1876</th>\n",
       "      <td>Air India</td>\n",
       "      <td>1/04/2019</td>\n",
       "      <td>Kolkata</td>\n",
       "      <td>Banglore</td>\n",
       "      <td>CCU → DEL → COK → BLR</td>\n",
       "      <td>07:00</td>\n",
       "      <td>01:20 02 Apr</td>\n",
       "      <td>18h 20m</td>\n",
       "      <td>2 stops</td>\n",
       "      <td>No info</td>\n",
       "    </tr>\n",
       "    <tr>\n",
       "      <th>1962</th>\n",
       "      <td>Multiple carriers</td>\n",
       "      <td>15/06/2019</td>\n",
       "      <td>Delhi</td>\n",
       "      <td>Cochin</td>\n",
       "      <td>DEL → BOM → COK</td>\n",
       "      <td>10:00</td>\n",
       "      <td>21:00</td>\n",
       "      <td>11h</td>\n",
       "      <td>1 stop</td>\n",
       "      <td>No info</td>\n",
       "    </tr>\n",
       "    <tr>\n",
       "      <th>2007</th>\n",
       "      <td>Jet Airways</td>\n",
       "      <td>24/06/2019</td>\n",
       "      <td>Delhi</td>\n",
       "      <td>Cochin</td>\n",
       "      <td>DEL → JAI → BOM → COK</td>\n",
       "      <td>09:40</td>\n",
       "      <td>04:25 25 Jun</td>\n",
       "      <td>18h 45m</td>\n",
       "      <td>2 stops</td>\n",
       "      <td>No info</td>\n",
       "    </tr>\n",
       "    <tr>\n",
       "      <th>2042</th>\n",
       "      <td>Air India</td>\n",
       "      <td>09/03/2019</td>\n",
       "      <td>Banglore</td>\n",
       "      <td>New Delhi</td>\n",
       "      <td>BLR → BOM → AMD → DEL</td>\n",
       "      <td>17:25</td>\n",
       "      <td>23:55 13 Mar</td>\n",
       "      <td>30h 30m</td>\n",
       "      <td>2 stops</td>\n",
       "      <td>No info</td>\n",
       "    </tr>\n",
       "    <tr>\n",
       "      <th>2083</th>\n",
       "      <td>Air India</td>\n",
       "      <td>15/06/2019</td>\n",
       "      <td>Delhi</td>\n",
       "      <td>Cochin</td>\n",
       "      <td>DEL → HYD → BOM → COK</td>\n",
       "      <td>13:15</td>\n",
       "      <td>19:15 16 Jun</td>\n",
       "      <td>30h</td>\n",
       "      <td>2 stops</td>\n",
       "      <td>No info</td>\n",
       "    </tr>\n",
       "    <tr>\n",
       "      <th>2095</th>\n",
       "      <td>Jet Airways</td>\n",
       "      <td>1/06/2019</td>\n",
       "      <td>Delhi</td>\n",
       "      <td>Cochin</td>\n",
       "      <td>DEL → NAG → BOM → COK</td>\n",
       "      <td>14:35</td>\n",
       "      <td>04:25 02 Jun</td>\n",
       "      <td>13h 50m</td>\n",
       "      <td>2 stops</td>\n",
       "      <td>In-flight meal not included</td>\n",
       "    </tr>\n",
       "    <tr>\n",
       "      <th>2171</th>\n",
       "      <td>Jet Airways</td>\n",
       "      <td>21/05/2019</td>\n",
       "      <td>Delhi</td>\n",
       "      <td>Cochin</td>\n",
       "      <td>DEL → JAI → BOM → COK</td>\n",
       "      <td>09:40</td>\n",
       "      <td>12:35 22 May</td>\n",
       "      <td>26h 55m</td>\n",
       "      <td>2 stops</td>\n",
       "      <td>No info</td>\n",
       "    </tr>\n",
       "    <tr>\n",
       "      <th>2310</th>\n",
       "      <td>Jet Airways</td>\n",
       "      <td>27/03/2019</td>\n",
       "      <td>Delhi</td>\n",
       "      <td>Cochin</td>\n",
       "      <td>DEL → MAA → BOM → COK</td>\n",
       "      <td>05:10</td>\n",
       "      <td>04:25 28 Mar</td>\n",
       "      <td>23h 15m</td>\n",
       "      <td>2 stops</td>\n",
       "      <td>In-flight meal not included</td>\n",
       "    </tr>\n",
       "    <tr>\n",
       "      <th>2536</th>\n",
       "      <td>Air India</td>\n",
       "      <td>3/06/2019</td>\n",
       "      <td>Delhi</td>\n",
       "      <td>Cochin</td>\n",
       "      <td>DEL → GOI → BOM → COK</td>\n",
       "      <td>22:00</td>\n",
       "      <td>19:15 04 Jun</td>\n",
       "      <td>21h 15m</td>\n",
       "      <td>2 stops</td>\n",
       "      <td>No info</td>\n",
       "    </tr>\n",
       "    <tr>\n",
       "      <th>2553</th>\n",
       "      <td>Jet Airways</td>\n",
       "      <td>15/06/2019</td>\n",
       "      <td>Delhi</td>\n",
       "      <td>Cochin</td>\n",
       "      <td>DEL → JAI → BOM → COK</td>\n",
       "      <td>05:30</td>\n",
       "      <td>19:00</td>\n",
       "      <td>13h 30m</td>\n",
       "      <td>2 stops</td>\n",
       "      <td>No info</td>\n",
       "    </tr>\n",
       "    <tr>\n",
       "      <th>2560</th>\n",
       "      <td>Multiple carriers</td>\n",
       "      <td>3/06/2019</td>\n",
       "      <td>Delhi</td>\n",
       "      <td>Cochin</td>\n",
       "      <td>DEL → BOM → COK</td>\n",
       "      <td>13:00</td>\n",
       "      <td>01:30 04 Jun</td>\n",
       "      <td>12h 30m</td>\n",
       "      <td>1 stop</td>\n",
       "      <td>No info</td>\n",
       "    </tr>\n",
       "    <tr>\n",
       "      <th>2582</th>\n",
       "      <td>Air India</td>\n",
       "      <td>12/05/2019</td>\n",
       "      <td>Kolkata</td>\n",
       "      <td>Banglore</td>\n",
       "      <td>CCU → BOM → GOI → BLR</td>\n",
       "      <td>16:50</td>\n",
       "      <td>05:35 13 May</td>\n",
       "      <td>12h 45m</td>\n",
       "      <td>2 stops</td>\n",
       "      <td>No info</td>\n",
       "    </tr>\n",
       "    <tr>\n",
       "      <th>2583</th>\n",
       "      <td>IndiGo</td>\n",
       "      <td>24/03/2019</td>\n",
       "      <td>Banglore</td>\n",
       "      <td>New Delhi</td>\n",
       "      <td>BLR → DEL</td>\n",
       "      <td>18:55</td>\n",
       "      <td>21:45</td>\n",
       "      <td>2h 50m</td>\n",
       "      <td>non-stop</td>\n",
       "      <td>No info</td>\n",
       "    </tr>\n",
       "  </tbody>\n",
       "</table>\n",
       "</div>"
      ],
      "text/plain": [
       "                Airline Date_of_Journey    Source Destination  \\\n",
       "294         Jet Airways      12/06/2019     Delhi      Cochin   \n",
       "794         Jet Airways      12/06/2019     Delhi      Cochin   \n",
       "909              IndiGo      24/03/2019  Banglore   New Delhi   \n",
       "974           Air India      12/06/2019   Kolkata    Banglore   \n",
       "1011        Jet Airways       9/05/2019     Delhi      Cochin   \n",
       "1033  Multiple carriers      15/05/2019     Delhi      Cochin   \n",
       "1044              GoAir      24/03/2019  Banglore   New Delhi   \n",
       "1233        Jet Airways       6/06/2019     Delhi      Cochin   \n",
       "1504          Air India      15/06/2019     Delhi      Cochin   \n",
       "1537        Jet Airways       6/06/2019     Delhi      Cochin   \n",
       "1752  Multiple carriers      21/05/2019     Delhi      Cochin   \n",
       "1753        Jet Airways      18/05/2019     Delhi      Cochin   \n",
       "1783          Air India      12/03/2019  Banglore   New Delhi   \n",
       "1876          Air India       1/04/2019   Kolkata    Banglore   \n",
       "1962  Multiple carriers      15/06/2019     Delhi      Cochin   \n",
       "2007        Jet Airways      24/06/2019     Delhi      Cochin   \n",
       "2042          Air India      09/03/2019  Banglore   New Delhi   \n",
       "2083          Air India      15/06/2019     Delhi      Cochin   \n",
       "2095        Jet Airways       1/06/2019     Delhi      Cochin   \n",
       "2171        Jet Airways      21/05/2019     Delhi      Cochin   \n",
       "2310        Jet Airways      27/03/2019     Delhi      Cochin   \n",
       "2536          Air India       3/06/2019     Delhi      Cochin   \n",
       "2553        Jet Airways      15/06/2019     Delhi      Cochin   \n",
       "2560  Multiple carriers       3/06/2019     Delhi      Cochin   \n",
       "2582          Air India      12/05/2019   Kolkata    Banglore   \n",
       "2583             IndiGo      24/03/2019  Banglore   New Delhi   \n",
       "\n",
       "                      Route Dep_Time  Arrival_Time Duration Total_Stops  \\\n",
       "294   DEL → JAI → BOM → COK    05:30  04:25 13 Jun  22h 55m     2 stops   \n",
       "794   DEL → JAI → BOM → COK    05:30  04:25 13 Jun  22h 55m     2 stops   \n",
       "909               BLR → DEL    20:00         22:55   2h 55m    non-stop   \n",
       "974   CCU → DEL → AMD → BLR    07:00  05:25 13 Jun  22h 25m     2 stops   \n",
       "1011  DEL → JAI → BOM → COK    05:30  04:25 10 May  22h 55m     2 stops   \n",
       "1033        DEL → BOM → COK    07:30         19:15  11h 45m      1 stop   \n",
       "1044              BLR → DEL    20:55         23:50   2h 55m    non-stop   \n",
       "1233  DEL → JAI → BOM → COK    05:30  04:25 07 Jun  22h 55m     2 stops   \n",
       "1504  DEL → GOI → BOM → COK    22:00  19:15 16 Jun  21h 15m     2 stops   \n",
       "1537  DEL → NAG → BOM → COK    06:45  04:25 07 Jun  21h 40m     2 stops   \n",
       "1752        DEL → BOM → COK    07:30         19:15  11h 45m      1 stop   \n",
       "1753  DEL → AMD → BOM → COK    23:05  19:00 19 May  19h 55m     2 stops   \n",
       "1783  BLR → CCU → GAU → DEL    05:50         22:10  16h 20m     2 stops   \n",
       "1876  CCU → DEL → COK → BLR    07:00  01:20 02 Apr  18h 20m     2 stops   \n",
       "1962        DEL → BOM → COK    10:00         21:00      11h      1 stop   \n",
       "2007  DEL → JAI → BOM → COK    09:40  04:25 25 Jun  18h 45m     2 stops   \n",
       "2042  BLR → BOM → AMD → DEL    17:25  23:55 13 Mar  30h 30m     2 stops   \n",
       "2083  DEL → HYD → BOM → COK    13:15  19:15 16 Jun      30h     2 stops   \n",
       "2095  DEL → NAG → BOM → COK    14:35  04:25 02 Jun  13h 50m     2 stops   \n",
       "2171  DEL → JAI → BOM → COK    09:40  12:35 22 May  26h 55m     2 stops   \n",
       "2310  DEL → MAA → BOM → COK    05:10  04:25 28 Mar  23h 15m     2 stops   \n",
       "2536  DEL → GOI → BOM → COK    22:00  19:15 04 Jun  21h 15m     2 stops   \n",
       "2553  DEL → JAI → BOM → COK    05:30         19:00  13h 30m     2 stops   \n",
       "2560        DEL → BOM → COK    13:00  01:30 04 Jun  12h 30m      1 stop   \n",
       "2582  CCU → BOM → GOI → BLR    16:50  05:35 13 May  12h 45m     2 stops   \n",
       "2583              BLR → DEL    18:55         21:45   2h 50m    non-stop   \n",
       "\n",
       "                  Additional_Info  \n",
       "294                       No info  \n",
       "794   In-flight meal not included  \n",
       "909                       No info  \n",
       "974                       No info  \n",
       "1011                      No info  \n",
       "1033                      No info  \n",
       "1044                      No info  \n",
       "1233                      No info  \n",
       "1504                      No info  \n",
       "1537  In-flight meal not included  \n",
       "1752                      No info  \n",
       "1753                      No info  \n",
       "1783                      No info  \n",
       "1876                      No info  \n",
       "1962                      No info  \n",
       "2007                      No info  \n",
       "2042                      No info  \n",
       "2083                      No info  \n",
       "2095  In-flight meal not included  \n",
       "2171                      No info  \n",
       "2310  In-flight meal not included  \n",
       "2536                      No info  \n",
       "2553                      No info  \n",
       "2560                      No info  \n",
       "2582                      No info  \n",
       "2583                      No info  "
      ]
     },
     "execution_count": 67,
     "metadata": {},
     "output_type": "execute_result"
    }
   ],
   "source": [
    "#Checking duplicate entries\n",
    "df_test[df_test.duplicated()]"
   ]
  },
  {
   "cell_type": "code",
   "execution_count": 68,
   "metadata": {},
   "outputs": [],
   "source": [
    "#Removing duplicate rows (keeping the first one)\n",
    "df_test.drop_duplicates(keep='first',inplace=True)"
   ]
  },
  {
   "cell_type": "code",
   "execution_count": 69,
   "metadata": {},
   "outputs": [],
   "source": [
    "#Extracting day, month and year from Date of journey\n",
    "df_test['Journey_Day'],df_test['Journey_Month'],df_test['Journey_Year']=df_test['Date_of_Journey'].str.split('/',3).str"
   ]
  },
  {
   "cell_type": "code",
   "execution_count": 70,
   "metadata": {},
   "outputs": [],
   "source": [
    "#Separating hours and minutes from departure time and making#Separating hours and minutes from departure time and make individual columns  individual columns \n",
    "df_test['Dep_Hr'],df_test['Dep_Min']=df_test['Dep_Time'].str.split(':',2).str"
   ]
  },
  {
   "cell_type": "code",
   "execution_count": 71,
   "metadata": {},
   "outputs": [],
   "source": [
    "#Removing date from arrival time\n",
    "df_test['Arrival_Time'],_=df_test['Arrival_Time'].str.split(' ',1).str"
   ]
  },
  {
   "cell_type": "code",
   "execution_count": 72,
   "metadata": {},
   "outputs": [
    {
     "data": {
      "text/plain": [
       "0       04:25\n",
       "1       10:20\n",
       "2       19:00\n",
       "3       21:00\n",
       "4       02:45\n",
       "        ...  \n",
       "2666    20:25\n",
       "2667    16:55\n",
       "2668    04:25\n",
       "2669    19:15\n",
       "2670    19:15\n",
       "Name: Arrival_Time, Length: 2645, dtype: object"
      ]
     },
     "execution_count": 72,
     "metadata": {},
     "output_type": "execute_result"
    }
   ],
   "source": [
    "df_test['Arrival_Time']"
   ]
  },
  {
   "cell_type": "code",
   "execution_count": 73,
   "metadata": {},
   "outputs": [],
   "source": [
    "#Separating hours and minutes from arrival time and making individual columns\n",
    "df_test['Arrival_Hr'],df_test['Arrival_Min']=df_test['Arrival_Time'].str.split(':',2).str"
   ]
  },
  {
   "cell_type": "code",
   "execution_count": 74,
   "metadata": {},
   "outputs": [],
   "source": [
    "#Replacing 'h' in duration with ':' and 'm' with blank space\n",
    "df_test['Duration']=df_test['Duration'].str.replace('h ',':').str.replace('h',':').str.replace('m','')"
   ]
  },
  {
   "cell_type": "code",
   "execution_count": 75,
   "metadata": {},
   "outputs": [],
   "source": [
    "#Separating hours and minutes from duration and making individual columns\n",
    "df_test['Duration_Hr'],df_test['Duration_Min']= df_test['Duration'].str.split(':',2).str"
   ]
  },
  {
   "cell_type": "code",
   "execution_count": 76,
   "metadata": {},
   "outputs": [
    {
     "data": {
      "text/plain": [
       "array(['1 stop', 'non-stop', '2 stops', '3 stops', '4 stops'],\n",
       "      dtype=object)"
      ]
     },
     "execution_count": 76,
     "metadata": {},
     "output_type": "execute_result"
    }
   ],
   "source": [
    "#Checking unique values in total stops\n",
    "df_test['Total_Stops'].unique()"
   ]
  },
  {
   "cell_type": "code",
   "execution_count": 77,
   "metadata": {},
   "outputs": [],
   "source": [
    "#Keeping only the numeric value in stops columns and placing 0 for non stop flights.\n",
    "df_test[\"Total_Stops\"]=df_test[\"Total_Stops\"].replace({'non-stop':0,'2 stops':2,'1 stop':1,'3 stops':3,'4 stops':4})"
   ]
  },
  {
   "cell_type": "code",
   "execution_count": 78,
   "metadata": {},
   "outputs": [
    {
     "data": {
      "text/plain": [
       "No info                         2126\n",
       "In-flight meal not included      440\n",
       "No check-in baggage included      76\n",
       "Change airports                    1\n",
       "Business class                     1\n",
       "1 Long layover                     1\n",
       "Name: Additional_Info, dtype: int64"
      ]
     },
     "execution_count": 78,
     "metadata": {},
     "output_type": "execute_result"
    }
   ],
   "source": [
    "#Checking additional info column\n",
    "df_test['Additional_Info'].value_counts()"
   ]
  },
  {
   "cell_type": "code",
   "execution_count": 79,
   "metadata": {},
   "outputs": [],
   "source": [
    "df_test.drop(columns=['Date_of_Journey','Route','Dep_Time','Arrival_Time','Duration','Additional_Info'],axis=1,inplace=True)"
   ]
  },
  {
   "cell_type": "code",
   "execution_count": 80,
   "metadata": {},
   "outputs": [
    {
     "data": {
      "text/plain": [
       "Index(['Airline', 'Source', 'Destination', 'Total_Stops', 'Journey_Day',\n",
       "       'Journey_Month', 'Journey_Year', 'Dep_Hr', 'Dep_Min', 'Arrival_Hr',\n",
       "       'Arrival_Min', 'Duration_Hr', 'Duration_Min'],\n",
       "      dtype='object')"
      ]
     },
     "execution_count": 80,
     "metadata": {},
     "output_type": "execute_result"
    }
   ],
   "source": [
    "df_test.columns"
   ]
  },
  {
   "cell_type": "code",
   "execution_count": 81,
   "metadata": {},
   "outputs": [
    {
     "data": {
      "text/plain": [
       "Airline          object\n",
       "Source           object\n",
       "Destination      object\n",
       "Total_Stops       int64\n",
       "Journey_Day      object\n",
       "Journey_Month    object\n",
       "Journey_Year     object\n",
       "Dep_Hr           object\n",
       "Dep_Min          object\n",
       "Arrival_Hr       object\n",
       "Arrival_Min      object\n",
       "Duration_Hr      object\n",
       "Duration_Min     object\n",
       "dtype: object"
      ]
     },
     "execution_count": 81,
     "metadata": {},
     "output_type": "execute_result"
    }
   ],
   "source": [
    "df_test.dtypes"
   ]
  },
  {
   "cell_type": "code",
   "execution_count": 82,
   "metadata": {},
   "outputs": [],
   "source": [
    "#Converting the newly created columns to integer\n",
    "new_col=['Journey_Day','Journey_Month','Journey_Year','Dep_Hr','Dep_Min','Arrival_Hr','Arrival_Min','Duration_Hr','Duration_Min']\n",
    "for i in new_col:\n",
    "    df_test[i]=pd.to_numeric(df_test[i],errors='coerce')"
   ]
  },
  {
   "cell_type": "code",
   "execution_count": 83,
   "metadata": {},
   "outputs": [
    {
     "data": {
      "text/plain": [
       "Airline           object\n",
       "Source            object\n",
       "Destination       object\n",
       "Total_Stops        int64\n",
       "Journey_Day        int64\n",
       "Journey_Month      int64\n",
       "Journey_Year       int64\n",
       "Dep_Hr             int64\n",
       "Dep_Min            int64\n",
       "Arrival_Hr         int64\n",
       "Arrival_Min        int64\n",
       "Duration_Hr        int64\n",
       "Duration_Min     float64\n",
       "dtype: object"
      ]
     },
     "execution_count": 83,
     "metadata": {},
     "output_type": "execute_result"
    }
   ],
   "source": [
    "df_test.dtypes"
   ]
  },
  {
   "cell_type": "code",
   "execution_count": 84,
   "metadata": {},
   "outputs": [
    {
     "data": {
      "text/plain": [
       "Airline            0\n",
       "Source             0\n",
       "Destination        0\n",
       "Total_Stops        0\n",
       "Journey_Day        0\n",
       "Journey_Month      0\n",
       "Journey_Year       0\n",
       "Dep_Hr             0\n",
       "Dep_Min            0\n",
       "Arrival_Hr         0\n",
       "Arrival_Min        0\n",
       "Duration_Hr        0\n",
       "Duration_Min     252\n",
       "dtype: int64"
      ]
     },
     "execution_count": 84,
     "metadata": {},
     "output_type": "execute_result"
    }
   ],
   "source": [
    "#Checking for null values as in duration some rows only contained hours therfore in those rows null values would be created by the data type conversion code used above. \n",
    "df_test.isnull().sum()"
   ]
  },
  {
   "cell_type": "code",
   "execution_count": 85,
   "metadata": {},
   "outputs": [],
   "source": [
    "#Replacing the null values with 0\n",
    "df_test['Duration_Min'].fillna(0,inplace=True)"
   ]
  },
  {
   "cell_type": "code",
   "execution_count": 86,
   "metadata": {},
   "outputs": [
    {
     "data": {
      "text/plain": [
       "Airline          0\n",
       "Source           0\n",
       "Destination      0\n",
       "Total_Stops      0\n",
       "Journey_Day      0\n",
       "Journey_Month    0\n",
       "Journey_Year     0\n",
       "Dep_Hr           0\n",
       "Dep_Min          0\n",
       "Arrival_Hr       0\n",
       "Arrival_Min      0\n",
       "Duration_Hr      0\n",
       "Duration_Min     0\n",
       "dtype: int64"
      ]
     },
     "execution_count": 86,
     "metadata": {},
     "output_type": "execute_result"
    }
   ],
   "source": [
    "df_test.isnull().sum()"
   ]
  },
  {
   "cell_type": "code",
   "execution_count": 87,
   "metadata": {},
   "outputs": [
    {
     "data": {
      "image/png": "[encoded data removed]",
      "text/plain": [
       "<Figure size 1080x360 with 1 Axes>"
      ]
     },
     "metadata": {
      "needs_background": "light"
     },
     "output_type": "display_data"
    },
    {
     "data": {
      "image/png": "[encoded data removed]",
      "text/plain": [
       "<Figure size 1080x360 with 1 Axes>"
      ]
     },
     "metadata": {
      "needs_background": "light"
     },
     "output_type": "display_data"
    },
    {
     "data": {
      "image/png": "[encoded data removed]",
      "text/plain": [
       "<Figure size 1080x360 with 1 Axes>"
      ]
     },
     "metadata": {
      "needs_background": "light"
     },
     "output_type": "display_data"
    },
    {
     "data": {
      "image/png": "[encoded data removed]",
      "text/plain": [
       "<Figure size 1080x360 with 1 Axes>"
      ]
     },
     "metadata": {
      "needs_background": "light"
     },
     "output_type": "display_data"
    },
    {
     "data": {
      "image/png": "[encoded data removed]",
      "text/plain": [
       "<Figure size 1080x360 with 1 Axes>"
      ]
     },
     "metadata": {
      "needs_background": "light"
     },
     "output_type": "display_data"
    },
    {
     "data": {
      "image/png": "[encoded data removed]",
      "text/plain": [
       "<Figure size 1080x360 with 1 Axes>"
      ]
     },
     "metadata": {
      "needs_background": "light"
     },
     "output_type": "display_data"
    },
    {
     "data": {
      "image/png": "[encoded data removed]",
      "text/plain": [
       "<Figure size 1080x360 with 1 Axes>"
      ]
     },
     "metadata": {
      "needs_background": "light"
     },
     "output_type": "display_data"
    },
    {
     "data": {
      "image/png": "[encoded data removed]",
      "text/plain": [
       "<Figure size 1080x360 with 1 Axes>"
      ]
     },
     "metadata": {
      "needs_background": "light"
     },
     "output_type": "display_data"
    },
    {
     "data": {
      "image/png": "[encoded data removed]",
      "text/plain": [
       "<Figure size 1080x360 with 1 Axes>"
      ]
     },
     "metadata": {
      "needs_background": "light"
     },
     "output_type": "display_data"
    },
    {
     "data": {
      "image/png": "[encoded data removed]",
      "text/plain": [
       "<Figure size 1080x360 with 1 Axes>"
      ]
     },
     "metadata": {
      "needs_background": "light"
     },
     "output_type": "display_data"
    },
    {
     "data": {
      "image/png": "[encoded data removed]",
      "text/plain": [
       "<Figure size 1080x360 with 1 Axes>"
      ]
     },
     "metadata": {
      "needs_background": "light"
     },
     "output_type": "display_data"
    },
    {
     "data": {
      "image/png": "[encoded data removed]",
      "text/plain": [
       "<Figure size 1080x360 with 1 Axes>"
      ]
     },
     "metadata": {
      "needs_background": "light"
     },
     "output_type": "display_data"
    },
    {
     "data": {
      "image/png": "[encoded data removed]",
      "text/plain": [
       "<Figure size 1080x360 with 1 Axes>"
      ]
     },
     "metadata": {
      "needs_background": "light"
     },
     "output_type": "display_data"
    }
   ],
   "source": [
    "for i in df_test.columns:\n",
    "    plt.figure(figsize=(15,5))\n",
    "    sns.countplot(df_test[i])\n",
    "    plt.xticks(rotation=90)\n",
    "    plt.show()"
   ]
  },
  {
   "cell_type": "code",
   "execution_count": 88,
   "metadata": {},
   "outputs": [],
   "source": [
    "#Converting object data type columns to numerical\n",
    "le = LabelEncoder()\n",
    "for i in df_test.columns:\n",
    "    if df_test[i].dtypes==object:\n",
    "        df_test[i] = le.fit_transform(df_test[i])"
   ]
  },
  {
   "cell_type": "code",
   "execution_count": 89,
   "metadata": {},
   "outputs": [],
   "source": [
    "#Removing Journey year as it's same for all the rows (we have data only from 2019)\n",
    "df_test.drop(columns='Journey_Year',axis=1,inplace=True)"
   ]
  },
  {
   "cell_type": "code",
   "execution_count": 90,
   "metadata": {},
   "outputs": [
    {
     "data": {
      "text/plain": [
       "(2645, 12)"
      ]
     },
     "execution_count": 90,
     "metadata": {},
     "output_type": "execute_result"
    }
   ],
   "source": [
    "df_test.shape"
   ]
  },
  {
   "cell_type": "code",
   "execution_count": 91,
   "metadata": {},
   "outputs": [],
   "source": [
    "#importing the model\n",
    "price_pred=joblib.load('Flight_price_prediction_rf.obj')"
   ]
  },
  {
   "cell_type": "code",
   "execution_count": 93,
   "metadata": {},
   "outputs": [],
   "source": [
    "#Predicitng the flight prices\n",
    "x=price_pred.predict(df_test)"
   ]
  },
  {
   "cell_type": "code",
   "execution_count": 95,
   "metadata": {},
   "outputs": [],
   "source": [
    "#Inverting the log transformation\n",
    "x=np.expm1(x)"
   ]
  },
  {
   "cell_type": "code",
   "execution_count": 99,
   "metadata": {},
   "outputs": [],
   "source": [
    "#creating dataframe of the result\n",
    "pred_price = pd.DataFrame(x,columns=['Price'])"
   ]
  },
  {
   "cell_type": "code",
   "execution_count": 100,
   "metadata": {},
   "outputs": [
    {
     "data": {
      "text/html": [
       "<div>\n",
       "<style scoped>\n",
       "    .dataframe tbody tr th:only-of-type {\n",
       "        vertical-align: middle;\n",
       "    }\n",
       "\n",
       "    .dataframe tbody tr th {\n",
       "        vertical-align: top;\n",
       "    }\n",
       "\n",
       "    .dataframe thead th {\n",
       "        text-align: right;\n",
       "    }\n",
       "</style>\n",
       "<table border=\"1\" class=\"dataframe\">\n",
       "  <thead>\n",
       "    <tr style=\"text-align: right;\">\n",
       "      <th></th>\n",
       "      <th>Price</th>\n",
       "    </tr>\n",
       "  </thead>\n",
       "  <tbody>\n",
       "    <tr>\n",
       "      <th>0</th>\n",
       "      <td>11088.169597</td>\n",
       "    </tr>\n",
       "    <tr>\n",
       "      <th>1</th>\n",
       "      <td>4265.365733</td>\n",
       "    </tr>\n",
       "    <tr>\n",
       "      <th>2</th>\n",
       "      <td>14203.947609</td>\n",
       "    </tr>\n",
       "    <tr>\n",
       "      <th>3</th>\n",
       "      <td>11445.212827</td>\n",
       "    </tr>\n",
       "    <tr>\n",
       "      <th>4</th>\n",
       "      <td>3450.405689</td>\n",
       "    </tr>\n",
       "    <tr>\n",
       "      <th>...</th>\n",
       "      <td>...</td>\n",
       "    </tr>\n",
       "    <tr>\n",
       "      <th>2640</th>\n",
       "      <td>10275.819970</td>\n",
       "    </tr>\n",
       "    <tr>\n",
       "      <th>2641</th>\n",
       "      <td>4845.162872</td>\n",
       "    </tr>\n",
       "    <tr>\n",
       "      <th>2642</th>\n",
       "      <td>14413.568024</td>\n",
       "    </tr>\n",
       "    <tr>\n",
       "      <th>2643</th>\n",
       "      <td>13187.109519</td>\n",
       "    </tr>\n",
       "    <tr>\n",
       "      <th>2644</th>\n",
       "      <td>7440.415935</td>\n",
       "    </tr>\n",
       "  </tbody>\n",
       "</table>\n",
       "<p>2645 rows × 1 columns</p>\n",
       "</div>"
      ],
      "text/plain": [
       "             Price\n",
       "0     11088.169597\n",
       "1      4265.365733\n",
       "2     14203.947609\n",
       "3     11445.212827\n",
       "4      3450.405689\n",
       "...            ...\n",
       "2640  10275.819970\n",
       "2641   4845.162872\n",
       "2642  14413.568024\n",
       "2643  13187.109519\n",
       "2644   7440.415935\n",
       "\n",
       "[2645 rows x 1 columns]"
      ]
     },
     "execution_count": 100,
     "metadata": {},
     "output_type": "execute_result"
    }
   ],
   "source": [
    "pred_price"
   ]
  },
  {
   "cell_type": "code",
   "execution_count": 105,
   "metadata": {},
   "outputs": [],
   "source": [
    "#Saving the result to excel file\n",
    "pred_price.to_excel('Flight_price_predicted.xlsx',index=False)"
   ]
  },
  {
   "cell_type": "code",
   "execution_count": 106,
   "metadata": {},
   "outputs": [],
   "source": [
    "#Viewing the results\n",
    "d=pd.read_excel('Flight_price_predicted.xlsx')"
   ]
  },
  {
   "cell_type": "code",
   "execution_count": 107,
   "metadata": {},
   "outputs": [
    {
     "data": {
      "text/html": [
       "<div>\n",
       "<style scoped>\n",
       "    .dataframe tbody tr th:only-of-type {\n",
       "        vertical-align: middle;\n",
       "    }\n",
       "\n",
       "    .dataframe tbody tr th {\n",
       "        vertical-align: top;\n",
       "    }\n",
       "\n",
       "    .dataframe thead th {\n",
       "        text-align: right;\n",
       "    }\n",
       "</style>\n",
       "<table border=\"1\" class=\"dataframe\">\n",
       "  <thead>\n",
       "    <tr style=\"text-align: right;\">\n",
       "      <th></th>\n",
       "      <th>Price</th>\n",
       "    </tr>\n",
       "  </thead>\n",
       "  <tbody>\n",
       "    <tr>\n",
       "      <th>0</th>\n",
       "      <td>11088.169597</td>\n",
       "    </tr>\n",
       "    <tr>\n",
       "      <th>1</th>\n",
       "      <td>4265.365733</td>\n",
       "    </tr>\n",
       "    <tr>\n",
       "      <th>2</th>\n",
       "      <td>14203.947609</td>\n",
       "    </tr>\n",
       "    <tr>\n",
       "      <th>3</th>\n",
       "      <td>11445.212827</td>\n",
       "    </tr>\n",
       "    <tr>\n",
       "      <th>4</th>\n",
       "      <td>3450.405689</td>\n",
       "    </tr>\n",
       "    <tr>\n",
       "      <th>...</th>\n",
       "      <td>...</td>\n",
       "    </tr>\n",
       "    <tr>\n",
       "      <th>2640</th>\n",
       "      <td>10275.819970</td>\n",
       "    </tr>\n",
       "    <tr>\n",
       "      <th>2641</th>\n",
       "      <td>4845.162872</td>\n",
       "    </tr>\n",
       "    <tr>\n",
       "      <th>2642</th>\n",
       "      <td>14413.568024</td>\n",
       "    </tr>\n",
       "    <tr>\n",
       "      <th>2643</th>\n",
       "      <td>13187.109519</td>\n",
       "    </tr>\n",
       "    <tr>\n",
       "      <th>2644</th>\n",
       "      <td>7440.415935</td>\n",
       "    </tr>\n",
       "  </tbody>\n",
       "</table>\n",
       "<p>2645 rows × 1 columns</p>\n",
       "</div>"
      ],
      "text/plain": [
       "             Price\n",
       "0     11088.169597\n",
       "1      4265.365733\n",
       "2     14203.947609\n",
       "3     11445.212827\n",
       "4      3450.405689\n",
       "...            ...\n",
       "2640  10275.819970\n",
       "2641   4845.162872\n",
       "2642  14413.568024\n",
       "2643  13187.109519\n",
       "2644   7440.415935\n",
       "\n",
       "[2645 rows x 1 columns]"
      ]
     },
     "execution_count": 107,
     "metadata": {},
     "output_type": "execute_result"
    }
   ],
   "source": [
    "d"
   ]
  },
  {
   "cell_type": "code",
   "execution_count": null,
   "metadata": {},
   "outputs": [],
   "source": []
  }
 ],
 "metadata": {
  "kernelspec": {
   "display_name": "Python 3",
   "language": "python",
   "name": "python3"
  },
  "language_info": {
   "codemirror_mode": {
    "name": "ipython",
    "version": 3
   },
   "file_extension": ".py",
   "mimetype": "text/x-python",
   "name": "python",
   "nbconvert_exporter": "python",
   "pygments_lexer": "ipython3",
   "version": "3.8.3"
  }
 },
 "nbformat": 4,
 "nbformat_minor": 4
}
